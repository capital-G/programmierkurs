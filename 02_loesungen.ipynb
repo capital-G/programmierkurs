{
 "cells": [
  {
   "cell_type": "markdown",
   "metadata": {},
   "source": [
    "# Lösungen Sitzung 2"
   ]
  },
  {
   "cell_type": "markdown",
   "metadata": {
    "slideshow": {
     "slide_type": "subslide"
    }
   },
   "source": [
    "**Aufgabe**\n",
    "\n",
    "* Schreibt ein Programm welches beim Input einer Zahl zwischen 0 und 10 die Zahl ausschreibt"
   ]
  },
  {
   "cell_type": "code",
   "execution_count": 1,
   "metadata": {},
   "outputs": [
    {
     "name": "stdin",
     "output_type": "stream",
     "text": [
      "Bitte geb eine Zahl ein  5\n"
     ]
    },
    {
     "name": "stdout",
     "output_type": "stream",
     "text": [
      "Deine Zahl ist Fünf\n"
     ]
    }
   ],
   "source": [
    "zahlen_dict = {\n",
    "    0: 'Null',\n",
    "    1: 'Eins',\n",
    "    2: 'Zwei',\n",
    "    3: 'Drei',\n",
    "    4: 'Vier',\n",
    "    5: 'Fünf',\n",
    "    6: 'Sechs',\n",
    "    7: 'Sieben',\n",
    "    8: 'Acht',\n",
    "    9: 'Neun',\n",
    "    10: 'Zehn',\n",
    "}\n",
    "\n",
    "# wir wandeln mit int(input(...)) den string den wir von\n",
    "# input zurück bekommen in ein integer - dies ist ähnlich\n",
    "# dem verketten von Funktionen in der Mathematik\n",
    "zahl = int(input('Bitte geb eine Zahl ein '))\n",
    "# der inhalt innerhalb der {} evaluiert wenn ein f vor dem string steht\n",
    "# es ist als platzhalter zu verstehen\n",
    "print(f'Deine Zahl ist {zahlen_dict[zahl]}')"
   ]
  },
  {
   "cell_type": "markdown",
   "metadata": {
    "slideshow": {
     "slide_type": "subslide"
    }
   },
   "source": [
    "**Aufgabe**\n",
    "\n",
    "* Schreibe ein Programm was nach einer Zahl fragt und anzeigt ob diese Zahl größer als 100 ist oder nicht."
   ]
  },
  {
   "cell_type": "code",
   "execution_count": 2,
   "metadata": {},
   "outputs": [
    {
     "name": "stdin",
     "output_type": "stream",
     "text": [
      "Bitte geb eine Zahl ein  50\n"
     ]
    },
    {
     "name": "stdout",
     "output_type": "stream",
     "text": [
      "Die Zahl 50 ist kleiner oder gleich 100\n"
     ]
    }
   ],
   "source": [
    "zahl = int(input('Bitte geb eine Zahl ein '))\n",
    "if zahl > 100:\n",
    "    print(f'Die Zahl {zahl} ist größer als 100')\n",
    "else:\n",
    "    print(f'Die Zahl {zahl} ist kleiner oder gleich 100')"
   ]
  },
  {
   "cell_type": "markdown",
   "metadata": {
    "slideshow": {
     "slide_type": "subslide"
    }
   },
   "source": [
    "**Aufgabe**\n",
    "\n",
    "* Schreib ein Programm welches den User eine zufällige Zahl erraten lässt indem das Programm den Computer nach einer eingegebenen Zahl sagt ob\n",
    "    * die Zahl zu niedrig ist\n",
    "    * die Zahl zu hoch ist\n",
    "    * die Zahl korrekt ist\n",
    "\n",
    "Beispiel:\n",
    "\n",
    "```\n",
    "# zufällige zahl = 42\n",
    "guessed number = 20 => print(\"too low\")\n",
    "guessed number = 50 => print(\"too high\")\n",
    "guessed number = 42 => print(\"you won!\")\n",
    "```\n",
    "\n",
    "\n",
    "Hinweis:\n",
    "```python\n",
    "import random\n",
    "random.randint(0, 100)  # erzeugt eine pseudo zufällige Zahl zwischen 0 und 100\n",
    "```"
   ]
  },
  {
   "cell_type": "code",
   "execution_count": 3,
   "metadata": {},
   "outputs": [
    {
     "name": "stdin",
     "output_type": "stream",
     "text": [
      "Rate eine Zahl:  50\n"
     ]
    },
    {
     "name": "stdout",
     "output_type": "stream",
     "text": [
      "Zu hoch\n"
     ]
    },
    {
     "name": "stdin",
     "output_type": "stream",
     "text": [
      "Rate eine Zahl:  25\n"
     ]
    },
    {
     "name": "stdout",
     "output_type": "stream",
     "text": [
      "Zu hoch\n"
     ]
    },
    {
     "name": "stdin",
     "output_type": "stream",
     "text": [
      "Rate eine Zahl:  13\n"
     ]
    },
    {
     "name": "stdout",
     "output_type": "stream",
     "text": [
      "Zu niedrig\n"
     ]
    },
    {
     "name": "stdin",
     "output_type": "stream",
     "text": [
      "Rate eine Zahl:  20\n"
     ]
    },
    {
     "name": "stdout",
     "output_type": "stream",
     "text": [
      "Zu hoch\n"
     ]
    },
    {
     "name": "stdin",
     "output_type": "stream",
     "text": [
      "Rate eine Zahl:  16\n"
     ]
    },
    {
     "name": "stdout",
     "output_type": "stream",
     "text": [
      "Zu hoch\n"
     ]
    },
    {
     "name": "stdin",
     "output_type": "stream",
     "text": [
      "Rate eine Zahl:  15\n"
     ]
    },
    {
     "name": "stdout",
     "output_type": "stream",
     "text": [
      "Richtig geraten!\n"
     ]
    }
   ],
   "source": [
    "import random\n",
    "\n",
    "zahl = random.randint(0, 100)\n",
    "\n",
    "while True:\n",
    "    eingabe = int(input('Rate eine Zahl: '))\n",
    "    \n",
    "    if eingabe < zahl:\n",
    "        print('Zu niedrig')\n",
    "    if eingabe > zahl:\n",
    "        print('Zu hoch')\n",
    "    if eingabe == zahl:\n",
    "        print('Richtig geraten!')\n",
    "        break"
   ]
  }
 ],
 "metadata": {
  "kernelspec": {
   "display_name": "Python 3",
   "language": "python",
   "name": "python3"
  },
  "language_info": {
   "codemirror_mode": {
    "name": "ipython",
    "version": 3
   },
   "file_extension": ".py",
   "mimetype": "text/x-python",
   "name": "python",
   "nbconvert_exporter": "python",
   "pygments_lexer": "ipython3",
   "version": "3.7.6"
  }
 },
 "nbformat": 4,
 "nbformat_minor": 4
}
