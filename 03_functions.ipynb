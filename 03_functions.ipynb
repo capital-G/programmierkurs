{
 "cells": [
  {
   "cell_type": "markdown",
   "metadata": {
    "slideshow": {
     "slide_type": "slide"
    }
   },
   "source": [
    "# Programmierkurs Python\n",
    "\n",
    "## Sitzung 3 - Funktionen"
   ]
  },
  {
   "cell_type": "markdown",
   "metadata": {
    "slideshow": {
     "slide_type": "slide"
    }
   },
   "source": [
    "## Flows"
   ]
  },
  {
   "cell_type": "markdown",
   "metadata": {
    "slideshow": {
     "slide_type": "slide"
    }
   },
   "source": [
    "## `for`\n",
    "\n",
    "Das `for` statement führt Code-Zeilen für jedes Element einer Liste aus, wobei wir das einzelne Element in dieser Liste mit einer neuen Variable versehen."
   ]
  },
  {
   "cell_type": "code",
   "execution_count": 1,
   "metadata": {},
   "outputs": [
    {
     "name": "stdout",
     "output_type": "stream",
     "text": [
      "1\n",
      "2\n",
      "3\n"
     ]
    }
   ],
   "source": [
    "foo = [1, 2, 3]\n",
    "\n",
    "for i in foo:\n",
    "    print(i)"
   ]
  },
  {
   "cell_type": "code",
   "execution_count": 2,
   "metadata": {
    "slideshow": {
     "slide_type": "subslide"
    }
   },
   "outputs": [
    {
     "name": "stdout",
     "output_type": "stream",
     "text": [
      "0 * 1 = 0\n",
      "0 * 2 = 0\n",
      "1 * 1 = 1\n",
      "1 * 2 = 2\n",
      "2 * 1 = 2\n",
      "2 * 2 = 4\n"
     ]
    }
   ],
   "source": [
    "# schachtelung von for schleifen\n",
    "for i in range(0, 3):\n",
    "    for j in range(1, 3):\n",
    "        print(f'{i} * {j} = {i*j}')"
   ]
  },
  {
   "cell_type": "markdown",
   "metadata": {
    "slideshow": {
     "slide_type": "subslide"
    }
   },
   "source": [
    "**Aufgabe**\n",
    "\n",
    "* Gebe alle geraden Zahlen zwischen 1 und inklusive 100 aus\n",
    "\n",
    "*Hinweis:* Siehe [*modolu*](https://www.wikiwand.com/de/Division_mit_Rest) Funktion, in Python `%`, welche den Rest einer ganzzahligen Division angibt, also die Zahl $b$ bei\n",
    "\n",
    "$n = m*a +b, 0 <= b < |m|$\n",
    "\n",
    "Beispiele:\n",
    "```python\n",
    "2 % 5 = 2  # 0 * 5 + 2\n",
    "8 % 5 = 3  # 1 * 5 + 3\n",
    "42 % 13 = 3  # 13 * 3 + 3\n",
    "16 % 2 = 0  # 8*2 + 0\n",
    "17 % 2 = 1  # 8*2 + 1\n",
    "18 % 2 = 0  # 9*2 + 0\n",
    "```"
   ]
  },
  {
   "cell_type": "markdown",
   "metadata": {
    "slideshow": {
     "slide_type": "slide"
    }
   },
   "source": [
    "## Funktionen\n",
    "\n",
    "Um wiederkehrende Operationen nicht immer neu schreiben zu müssen abstrahiert man diese in *Funktionen*.\n",
    "\n",
    "Diese Funktionen können zusätzlich Arguemnte annehmen und können mithilfe von `return` auch Datenwerte zurückgeben die man wiederum in einer Variable speichern kann."
   ]
  },
  {
   "cell_type": "code",
   "execution_count": 3,
   "metadata": {},
   "outputs": [
    {
     "name": "stdout",
     "output_type": "stream",
     "text": [
      "Hello\n"
     ]
    }
   ],
   "source": [
    "def say_hello():\n",
    "    print('Hello')\n",
    "\n",
    "say_hello()"
   ]
  },
  {
   "cell_type": "code",
   "execution_count": 4,
   "metadata": {
    "slideshow": {
     "slide_type": "subslide"
    }
   },
   "outputs": [
    {
     "name": "stdout",
     "output_type": "stream",
     "text": [
      "Hello\n"
     ]
    }
   ],
   "source": [
    "def give_hello():\n",
    "    return \"Hello\"\n",
    "\n",
    "foo = give_hello()\n",
    "print(foo)"
   ]
  },
  {
   "cell_type": "code",
   "execution_count": 5,
   "metadata": {
    "slideshow": {
     "slide_type": "subslide"
    }
   },
   "outputs": [
    {
     "name": "stdout",
     "output_type": "stream",
     "text": [
      "Hello Clara\n"
     ]
    }
   ],
   "source": [
    "def say_my_name(name):\n",
    "    return \"Hello \" + name\n",
    "\n",
    "print(say_my_name('Clara'))"
   ]
  },
  {
   "cell_type": "code",
   "execution_count": 6,
   "metadata": {
    "slideshow": {
     "slide_type": "subslide"
    }
   },
   "outputs": [
    {
     "name": "stdout",
     "output_type": "stream",
     "text": [
      "Hello ClaraHello ClaraHello ClaraHello ClaraHello Clara\n"
     ]
    }
   ],
   "source": [
    "def say_my_name_n_times(name, n_times):\n",
    "    return say_my_name(name) * n_times\n",
    "\n",
    "print(say_my_name_n_times('Clara', 5))"
   ]
  },
  {
   "cell_type": "code",
   "execution_count": 7,
   "metadata": {
    "slideshow": {
     "slide_type": "subslide"
    }
   },
   "outputs": [
    {
     "data": {
      "text/plain": [
       "'Hello ClaraHello Clara'"
      ]
     },
     "execution_count": 7,
     "metadata": {},
     "output_type": "execute_result"
    }
   ],
   "source": [
    "# kwargs and args as defaults\n",
    "def say_my_name_n_times(name, n_times=2):\n",
    "    return say_my_name(name) * n_times\n",
    "\n",
    "say_my_name_n_times('Clara')"
   ]
  },
  {
   "cell_type": "markdown",
   "metadata": {
    "slideshow": {
     "slide_type": "subslide"
    }
   },
   "source": [
    "**Aufgabe**\n",
    "\n",
    "* Schreibe eine Funktion die einen Boolean Wert zurückliefert ob eine Zahl gerade ist oder nicht."
   ]
  }
 ],
 "metadata": {
  "kernelspec": {
   "display_name": "Python 3",
   "language": "python",
   "name": "python3"
  },
  "language_info": {
   "codemirror_mode": {
    "name": "ipython",
    "version": 3
   },
   "file_extension": ".py",
   "mimetype": "text/x-python",
   "name": "python",
   "nbconvert_exporter": "python",
   "pygments_lexer": "ipython3",
   "version": "3.7.5"
  }
 },
 "nbformat": 4,
 "nbformat_minor": 4
}
