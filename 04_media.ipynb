{
 "cells": [
  {
   "cell_type": "markdown",
   "metadata": {},
   "source": [
    "# Programmierkurs Python\n",
    "\n",
    "## Sitzung 4 - Medien"
   ]
  },
  {
   "cell_type": "markdown",
   "metadata": {
    "slideshow": {
     "slide_type": "slide"
    }
   },
   "source": [
    "## Bilder\n",
    "\n",
    "Python bietet eine viele Möglichkeiten Bilder zu bearbeiten. Dafür werden wir die Bibliotheken `skimage`, `matplotlib` und `imageio` benutzen die auf `numpy`, eine Numerik Bibliothek für Python, basieren.\n",
    "\n",
    "Installiert euch deshalb diese Bibliotheken indem ihr folgendes in eine *Shell* eingibt\n",
    "\n",
    "```\n",
    "pip3 install scikit-image imageio numpy matplotlib\n",
    "```"
   ]
  },
  {
   "cell_type": "markdown",
   "metadata": {
    "slideshow": {
     "slide_type": "subslide"
    }
   },
   "source": [
    "## Aufbau eines digitalen Bildes\n",
    "\n",
    "![](https://brohrer.github.io/images/image_processing/three_d_array.png)\n",
    "\n",
    "[https://brohrer.github.io/convert_rgb_to_grayscale.html](https://brohrer.github.io/convert_rgb_to_grayscale.html)"
   ]
  },
  {
   "cell_type": "code",
   "execution_count": 3,
   "metadata": {
    "slideshow": {
     "slide_type": "subslide"
    }
   },
   "outputs": [],
   "source": [
    "# importieren der bibliotheken\n",
    "\n",
    "import imageio\n",
    "import matplotlib.pyplot as plt\n",
    "import numpy as np\n",
    "import skimage"
   ]
  },
  {
   "cell_type": "code",
   "execution_count": 8,
   "metadata": {
    "slideshow": {
     "slide_type": "subslide"
    }
   },
   "outputs": [
    {
     "name": "stdout",
     "output_type": "stream",
     "text": [
      "Image Shape is (630, 1200, 3)\n"
     ]
    },
    {
     "data": {
      "image/png": "[encoded data removed]",
      "text/plain": [
       "<Figure size 432x288 with 1 Axes>"
      ]
     },
     "metadata": {},
     "output_type": "display_data"
    }
   ],
   "source": [
    "image = imageio.imread('rsh_logo.jpg')\n",
    "print(f'Image Shape is {image.shape}')\n",
    "plt.imshow(image);"
   ]
  },
  {
   "cell_type": "markdown",
   "metadata": {
    "slideshow": {
     "slide_type": "slide"
    }
   },
   "source": [
    "## Scope\n",
    "\n",
    "Der *Scope* einer Funktion gibt an ob wir Zugriff auf eine Variable haben oder nicht.\n",
    "\n",
    "In Python hat man in der Regel nur Zugriff auf die Variablen aus der kleineren Einrückung und die über der Zeile stehen."
   ]
  },
  {
   "cell_type": "code",
   "execution_count": 25,
   "metadata": {
    "slideshow": {
     "slide_type": "subslide"
    }
   },
   "outputs": [],
   "source": [
    "foo = 42\n",
    "\n",
    "if bar is True:\n",
    "    print(foo)\n",
    "\n",
    "bar = True"
   ]
  },
  {
   "cell_type": "code",
   "execution_count": 26,
   "metadata": {
    "slideshow": {
     "slide_type": "subslide"
    }
   },
   "outputs": [
    {
     "name": "stdout",
     "output_type": "stream",
     "text": [
      "Hello\n"
     ]
    }
   ],
   "source": [
    "foo = 'Hello'\n",
    "\n",
    "def my_func():\n",
    "    print(foo)\n",
    "\n",
    "my_func()"
   ]
  },
  {
   "cell_type": "code",
   "execution_count": 27,
   "metadata": {
    "slideshow": {
     "slide_type": "subslide"
    }
   },
   "outputs": [
    {
     "ename": "NameError",
     "evalue": "name 'foo' is not defined",
     "output_type": "error",
     "traceback": [
      "\u001b[0;31m---------------------------------------------------------------------------\u001b[0m",
      "\u001b[0;31mNameError\u001b[0m                                 Traceback (most recent call last)",
      "\u001b[0;32m<ipython-input-27-31504fd18de0>\u001b[0m in \u001b[0;36m<module>\u001b[0;34m\u001b[0m\n\u001b[1;32m      6\u001b[0m     \u001b[0;32mreturn\u001b[0m \u001b[0mbar\u001b[0m\u001b[0;34m\u001b[0m\u001b[0;34m\u001b[0m\u001b[0m\n\u001b[1;32m      7\u001b[0m \u001b[0;34m\u001b[0m\u001b[0m\n\u001b[0;32m----> 8\u001b[0;31m \u001b[0mprint\u001b[0m\u001b[0;34m(\u001b[0m\u001b[0mfoo\u001b[0m\u001b[0;34m)\u001b[0m\u001b[0;34m\u001b[0m\u001b[0;34m\u001b[0m\u001b[0m\n\u001b[0m",
      "\u001b[0;31mNameError\u001b[0m: name 'foo' is not defined"
     ]
    }
   ],
   "source": [
    "del foo\n",
    "\n",
    "def my_func():\n",
    "    foo = 42\n",
    "    bar = 2\n",
    "    return bar\n",
    "\n",
    "print(foo)"
   ]
  },
  {
   "cell_type": "markdown",
   "metadata": {
    "slideshow": {
     "slide_type": "slide"
    }
   },
   "source": [
    "## `import`\n",
    "\n",
    "Ein großer Vorteil von Python ist, dass die Programmiersprache eine große Standardbibliothek hat.\n",
    "Die Standardbibliothek ist bei jeder Python Installation verfügbar und die einzelnen *Module* müssen importiert werden."
   ]
  },
  {
   "cell_type": "markdown",
   "metadata": {
    "slideshow": {
     "slide_type": "subslide"
    }
   },
   "source": [
    "Ein Beispiel kennen wir dabei schon."
   ]
  },
  {
   "cell_type": "code",
   "execution_count": 28,
   "metadata": {},
   "outputs": [
    {
     "name": "stdout",
     "output_type": "stream",
     "text": [
      "99\n"
     ]
    }
   ],
   "source": [
    "import random\n",
    "\n",
    "print(random.randint(0, 100))"
   ]
  },
  {
   "cell_type": "markdown",
   "metadata": {
    "slideshow": {
     "slide_type": "subslide"
    }
   },
   "source": [
    "Das `random` Module der Standardbibliothek ist z.B. dokumentiert unter [https://docs.python.org/3/library/random.html](https://docs.python.org/3/library/random.html).\n",
    "\n",
    "Alternativ kann man sich mit in Jupyter den *docstring* anzeigen lassen indem man ein ? dem Ausdruck voranstellt."
   ]
  },
  {
   "cell_type": "code",
   "execution_count": 29,
   "metadata": {},
   "outputs": [
    {
     "data": {
      "text/plain": [
       "\u001b[0;31mSignature:\u001b[0m \u001b[0mrandom\u001b[0m\u001b[0;34m.\u001b[0m\u001b[0mrandint\u001b[0m\u001b[0;34m(\u001b[0m\u001b[0ma\u001b[0m\u001b[0;34m,\u001b[0m \u001b[0mb\u001b[0m\u001b[0;34m)\u001b[0m\u001b[0;34m\u001b[0m\u001b[0;34m\u001b[0m\u001b[0m\n",
       "\u001b[0;31mDocstring:\u001b[0m\n",
       "Return random integer in range [a, b], including both end points.\n",
       "        \n",
       "\u001b[0;31mFile:\u001b[0m      /usr/local/Cellar/python/3.7.6_1/Frameworks/Python.framework/Versions/3.7/lib/python3.7/random.py\n",
       "\u001b[0;31mType:\u001b[0m      method\n"
      ]
     },
     "metadata": {},
     "output_type": "display_data"
    }
   ],
   "source": [
    "?random.randint"
   ]
  },
  {
   "cell_type": "markdown",
   "metadata": {
    "slideshow": {
     "slide_type": "subslide"
    }
   },
   "source": [
    "Ein paar sehr hilfreiche Module aus der [Standardbibliothek](https://docs.python.org/3/library/index.html)\n",
    "\n",
    "Modul | Funktion\n",
    "--- | ---\n",
    "[`re`](https://docs.python.org/3/library/re.html) | regex (pattern matching auf strings)\n",
    "[`datetime`](https://docs.python.org/3/library/datetime.html) | rechnen mit datum\n",
    "[`random`](https://docs.python.org/3/library/random.html) | Pseudozufallszahlen\n",
    "[`os`](https://docs.python.org/3/library/os.html) | Dateisystemzugriff\n",
    "[`shutil`](https://docs.python.org/3/library/shutil.html) | Dateioperationen\n",
    "[`sqlite3`](https://docs.python.org/3/library/sqlite3.html) | SQlite3 Datenbank\n",
    "[`time`](https://docs.python.org/3/library/time.html) | Zeitoperationen\n",
    "[`logging`](https://docs.python.org/3/library/logging.html) | Logging\n",
    "[`email`](https://docs.python.org/3/library/email.html) | E-Mails erstellen\n",
    "[`json`](https://docs.python.org/3/library/json.html) | JSON En-/Decoder\n",
    "[`xml.etree.ElementTree`](https://docs.python.org/3/library/xml.etree.elementtree.html) | XML Operationen\n",
    "[`unittest`](https://docs.python.org/3/library/unittest.html) | Unittesting"
   ]
  },
  {
   "cell_type": "markdown",
   "metadata": {
    "slideshow": {
     "slide_type": "slide"
    }
   },
   "source": [
    "## Dateizugriffe\n",
    "\n",
    "Eine Datei kann man öffnen, lesen, schreiben und schließen.\n",
    "Dabei unterscheidet man zwischen Textdaten (z.B. Quellcode, markdown) und Binärdaten (z.B. Bilder).\n",
    "\n",
    "Dateizugriffe sind immer sehr kritische Operationen da wir nicht wissen ob\n",
    "\n",
    "* die Datei existiert\n",
    "* wir Zugriff auf die Datei haben\n",
    "* wir die Datei schreiben können\n",
    "\n",
    "Daher immer aufmerksam sein da man schnell auch Dateien kaputt machen oder überschreiben kann!"
   ]
  },
  {
   "cell_type": "code",
   "execution_count": 30,
   "metadata": {
    "slideshow": {
     "slide_type": "subslide"
    }
   },
   "outputs": [
    {
     "name": "stdout",
     "output_type": "stream",
     "text": [
      "# Einführung in die Programmierung mit Python\n",
      "\n",
      "Eine Einführung in die Grundlagen der Programmierung \n"
     ]
    }
   ],
   "source": [
    "data = None\n",
    "with open('README.md', 'r') as f:\n",
    "    data = f.read()\n",
    "\n",
    "print(data[0:100])"
   ]
  },
  {
   "cell_type": "markdown",
   "metadata": {
    "slideshow": {
     "slide_type": "subslide"
    }
   },
   "source": [
    "mode | Funktion\n",
    "--- | ---\n",
    "`r` | Liest Text Datei\n",
    "`rb` | Liest Binär Datei\n",
    "`w` | Schreibt Text Datei\n",
    "`wb` | Schreibt Binär Datei"
   ]
  },
  {
   "cell_type": "code",
   "execution_count": 31,
   "metadata": {
    "slideshow": {
     "slide_type": "subslide"
    }
   },
   "outputs": [],
   "source": [
    "my_text = \"\"\"\n",
    "It can happen to you\n",
    "It can happen to me\n",
    "\"\"\"\n",
    "\n",
    "with open('my_text.txt', 'w') as f:\n",
    "    f.write(my_text)"
   ]
  },
  {
   "cell_type": "markdown",
   "metadata": {
    "slideshow": {
     "slide_type": "slide"
    }
   },
   "source": [
    "Installiert euch *Visual Studio Code*.\n",
    "\n",
    "*Visual Studio Code* ist ein Code Editor für verschiedene Programmiersprachen."
   ]
  },
  {
   "cell_type": "markdown",
   "metadata": {
    "slideshow": {
     "slide_type": "slide"
    }
   },
   "source": [
    "## Script schreiben und ausführen\n",
    "\n",
    "Jupyter Notebook ist gut zum partiellen ausführen von Code-Blöcken - jedoch eignet es sich nicht gut als Script welches man eine bestimmte Anzahl von malen ausführen möchte.\n",
    "\n",
    "Dafür legt man in einem Editor (z.B. *Visual Studio Code*) eine neue Datei mit der Endung `.py` an und schreibt dort den Code.\n",
    "\n",
    "Wenn man die Datei abgespeichert hat öffnet man eine Konsole und wechselt in das Verzeichnis der Datei und führt das Script mithilfe von\n",
    "\n",
    "```\n",
    "python3 my_script.py\n",
    "```\n",
    "\n",
    "aus."
   ]
  },
  {
   "cell_type": "markdown",
   "metadata": {
    "slideshow": {
     "slide_type": "slide"
    }
   },
   "source": [
    "## PEP8\n",
    "\n",
    "Wenn mehrere Leute an einem Projekt arbeiten ist es sinnvoll sich an sogennante *Style Guidelines* zu halten, die die Formatierung wie Namen von Variablen, Funktionen oder Art der Einrückungen vereinheitlichen.\n",
    "\n",
    "Bei Python nennt sich dieser Standard *pep8* und ist hier sepzifiziert:\n",
    "https://www.python.org/dev/peps/pep-0008/\n",
    "\n",
    "Art | Konvention | Beispiel\n",
    "--- | --- | ---\n",
    "Variablen | alles klein, wobei Leerzeichen durch `_` ersetzt werden | `my_variable`\n",
    "konstante Variablen | alles groß geschrieben ' \n",
    "Funktionen | alles klein, wobei Leerzeichen durch `_` ersetzt werden | `my_function`\n",
    "Klassen | CamelCase | `MyClass`"
   ]
  },
  {
   "cell_type": "markdown",
   "metadata": {
    "slideshow": {
     "slide_type": "slide"
    }
   },
   "source": [
    "## git\n",
    "\n",
    "*git* ist ein *Versions Kontroll System (VCS - Version Control System)* womit mehrere Leute an einem Textprojekt arbeiten können.\n",
    "Jede Veränderung ist ein inkrement und "
   ]
  }
 ],
 "metadata": {
  "kernelspec": {
   "display_name": "Python 3",
   "language": "python",
   "name": "python3"
  },
  "language_info": {
   "codemirror_mode": {
    "name": "ipython",
    "version": 3
   },
   "file_extension": ".py",
   "mimetype": "text/x-python",
   "name": "python",
   "nbconvert_exporter": "python",
   "pygments_lexer": "ipython3",
   "version": "3.7.5"
  }
 },
 "nbformat": 4,
 "nbformat_minor": 4
}
