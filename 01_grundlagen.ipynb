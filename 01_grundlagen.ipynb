{
 "cells": [
  {
   "cell_type": "markdown",
   "metadata": {
    "slideshow": {
     "slide_type": "slide"
    }
   },
   "source": [
    "# Progammierkurs Python\n",
    "\n",
    "## Sitzung 1 - Grundlagen"
   ]
  },
  {
   "cell_type": "markdown",
   "metadata": {},
   "source": [
    "> Python is a programming language that lets you work quickly\n",
    "and integrate systems more effectively"
   ]
  },
  {
   "cell_type": "markdown",
   "metadata": {
    "slideshow": {
     "slide_type": "slide"
    }
   },
   "source": [
    "![GitHub Logo](https://imgs.xkcd.com/comics/python.png)\n",
    "\n",
    "https://imgs.xkcd.com/comics/python.png"
   ]
  },
  {
   "cell_type": "code",
   "execution_count": 1,
   "metadata": {
    "slideshow": {
     "slide_type": "slide"
    }
   },
   "outputs": [
    {
     "name": "stdout",
     "output_type": "stream",
     "text": [
      "Hello World\n"
     ]
    }
   ],
   "source": [
    "print(\"Hello World\")"
   ]
  },
  {
   "cell_type": "markdown",
   "metadata": {
    "slideshow": {
     "slide_type": "slide"
    }
   },
   "source": [
    "Das selbe Programm in Java\n",
    "\n",
    "```java\n",
    "public class HelloWorld \n",
    "{\n",
    " \n",
    "       public static void main (String[] args)\n",
    "       {\n",
    "             System.out.println(\"Hello World!\");\n",
    "       }\n",
    "}\n",
    "```"
   ]
  },
  {
   "cell_type": "markdown",
   "metadata": {
    "slideshow": {
     "slide_type": "slide"
    }
   },
   "source": [
    "## Warum Python?\n",
    "\n",
    "* Vielseitig\n",
    "* Übersichtlich und kompakt\n",
    "* High Level\n",
    "\n",
    "Wird benuzt für:\n",
    "\n",
    "* Webentwicklung\n",
    "* Datenanalyse\n",
    "* Everyday struggle (z.B. Umwandlung von Bildern)\n",
    "* Datenanlyse\n",
    "* Machine Learning\n",
    "\n",
    "Wird benutzt von:\n",
    "\n",
    "* Google / YouTube\n",
    "* Facebook / Instagram\n",
    "* RTL\n",
    "* Reddit\n",
    "* Spotify\n",
    "* CERN\n",
    "* NASA"
   ]
  },
  {
   "cell_type": "markdown",
   "metadata": {
    "slideshow": {
     "slide_type": "slide"
    }
   },
   "source": [
    "## Installation\n",
    "\n",
    "* Linux/Unix\n",
    "    * Python2 ist in der Regel vorinstalliert, wir nutzen jedoch Python 3.\n",
    "    Überprüft ob ihr Python3 installiert habt indem ihr folgendes Kommando in euer Terminal eingibt\n",
    "    ```\n",
    "    python3 --version\n",
    "    ```\n",
    "    und installiert es mithilfe eures Packetmanagers.\n",
    "    Bei Debian wäre dies\n",
    "    ```\n",
    "    apt-get install python3 python3-pip\n",
    "    ```\n",
    "\n",
    "* OS X\n",
    "    * Falls noch nicht vorhnanden, instaliert euch *brew* via http://brew.sh\n",
    "    * Installiert Python3 via\n",
    "    ```\n",
    "    brew install python3\n",
    "    ```\n",
    "\n",
    "* Windows\n",
    "    * Installiert euch Python via http://python.org"
   ]
  },
  {
   "cell_type": "markdown",
   "metadata": {
    "slideshow": {
     "slide_type": "slide"
    }
   },
   "source": [
    "Installiert euch nun *Jupyter Notebook* via\n",
    "\n",
    "```\n",
    "pip3 install jupyter\n",
    "```\n",
    "\n",
    "Geht via `cd` und/oder `mkdir` in ein Verzeichnis eurer Wahl und führt dort den Befehl\n",
    "\n",
    "```\n",
    "jupyter notebook\n",
    "```\n",
    "\n",
    "aus."
   ]
  },
  {
   "cell_type": "markdown",
   "metadata": {
    "slideshow": {
     "slide_type": "slide"
    }
   },
   "source": [
    "Installiert euch zusätzlich noch Visual Studio Code."
   ]
  },
  {
   "cell_type": "markdown",
   "metadata": {
    "slideshow": {
     "slide_type": "slide"
    }
   },
   "source": [
    "## Zen Of Python"
   ]
  },
  {
   "cell_type": "code",
   "execution_count": 15,
   "metadata": {},
   "outputs": [
    {
     "name": "stdout",
     "output_type": "stream",
     "text": [
      "The Zen of Python, by Tim Peters\n",
      "\n",
      "Beautiful is better than ugly.\n",
      "Explicit is better than implicit.\n",
      "Simple is better than complex.\n",
      "Complex is better than complicated.\n",
      "Flat is better than nested.\n",
      "Sparse is better than dense.\n",
      "Readability counts.\n",
      "Special cases aren't special enough to break the rules.\n",
      "Although practicality beats purity.\n",
      "Errors should never pass silently.\n",
      "Unless explicitly silenced.\n",
      "In the face of ambiguity, refuse the temptation to guess.\n",
      "There should be one-- and preferably only one --obvious way to do it.\n",
      "Although that way may not be obvious at first unless you're Dutch.\n",
      "Now is better than never.\n",
      "Although never is often better than *right* now.\n",
      "If the implementation is hard to explain, it's a bad idea.\n",
      "If the implementation is easy to explain, it may be a good idea.\n",
      "Namespaces are one honking great idea -- let's do more of those!\n"
     ]
    }
   ],
   "source": [
    "import this"
   ]
  },
  {
   "cell_type": "markdown",
   "metadata": {
    "slideshow": {
     "slide_type": "slide"
    }
   },
   "source": [
    "## Datentypen"
   ]
  },
  {
   "cell_type": "markdown",
   "metadata": {},
   "source": [
    "In einer Progammiersprache gibt es verschiedene *Datentypen* um verschiedene Arten von Daten zu speichern.\n",
    "\n",
    "Datentyp | Beschreibung\n",
    "--- | ---\n",
    "string | Buchstaben\n",
    "integer | Ganzzahlen\n",
    "float | Kommazahlen\n",
    "boolean | Wahrheitswerte"
   ]
  },
  {
   "cell_type": "code",
   "execution_count": 7,
   "metadata": {
    "slideshow": {
     "slide_type": "subslide"
    }
   },
   "outputs": [
    {
     "data": {
      "text/plain": [
       "'hello world'"
      ]
     },
     "execution_count": 7,
     "metadata": {},
     "output_type": "execute_result"
    }
   ],
   "source": [
    "'hello world'  # string"
   ]
  },
  {
   "cell_type": "code",
   "execution_count": 8,
   "metadata": {
    "slideshow": {
     "slide_type": "subslide"
    }
   },
   "outputs": [
    {
     "data": {
      "text/plain": [
       "42"
      ]
     },
     "execution_count": 8,
     "metadata": {},
     "output_type": "execute_result"
    }
   ],
   "source": [
    "42  # integer"
   ]
  },
  {
   "cell_type": "code",
   "execution_count": 10,
   "metadata": {
    "slideshow": {
     "slide_type": "subslide"
    }
   },
   "outputs": [
    {
     "data": {
      "text/plain": [
       "0.5"
      ]
     },
     "execution_count": 10,
     "metadata": {},
     "output_type": "execute_result"
    }
   ],
   "source": [
    "0.5  # float"
   ]
  },
  {
   "cell_type": "code",
   "execution_count": 83,
   "metadata": {
    "slideshow": {
     "slide_type": "subslide"
    }
   },
   "outputs": [
    {
     "name": "stdout",
     "output_type": "stream",
     "text": [
      "False\n",
      "True\n",
      "False\n",
      "False\n"
     ]
    }
   ],
   "source": [
    "print(False)  # boolean\n",
    "print(42 > 0)\n",
    "print(42 < 0)\n",
    "print(42 == 0)"
   ]
  },
  {
   "cell_type": "markdown",
   "metadata": {
    "slideshow": {
     "slide_type": "slide"
    }
   },
   "source": [
    "## Variablen\n",
    "\n",
    "Um zu einem späteren Zeitpunkt / Codezeile auf den Wert eines Datentyps zugreifen zu können benutzen wir Variablen die einen Datenwert an einen Namen binden.\n",
    "\n",
    "Man deklariert eine Variable mithilfe der *Syntax* `variablen_name = wert der variable`"
   ]
  },
  {
   "cell_type": "code",
   "execution_count": 19,
   "metadata": {},
   "outputs": [
    {
     "name": "stdout",
     "output_type": "stream",
     "text": [
      "40\n",
      "2\n"
     ]
    }
   ],
   "source": [
    "foo = 40\n",
    "bar = 2\n",
    "print(foo)\n",
    "print(bar)"
   ]
  },
  {
   "cell_type": "code",
   "execution_count": 69,
   "metadata": {
    "slideshow": {
     "slide_type": "subslide"
    }
   },
   "outputs": [
    {
     "name": "stdout",
     "output_type": "stream",
     "text": [
      "40\n",
      "2\n"
     ]
    }
   ],
   "source": [
    "# überschreiben von variablen\n",
    "foo = 40\n",
    "print(foo)\n",
    "foo = 2\n",
    "print(foo)"
   ]
  },
  {
   "cell_type": "code",
   "execution_count": 6,
   "metadata": {
    "slideshow": {
     "slide_type": "subslide"
    }
   },
   "outputs": [
    {
     "name": "stdout",
     "output_type": "stream",
     "text": [
      "42\n",
      "42.0\n",
      "42\n"
     ]
    }
   ],
   "source": [
    "# casten von variablen\n",
    "foo = 42\n",
    "print(str(foo))\n",
    "print(float(foo))\n",
    "print(int(foo))"
   ]
  },
  {
   "cell_type": "code",
   "execution_count": 7,
   "metadata": {
    "slideshow": {
     "slide_type": "subslide"
    }
   },
   "outputs": [
    {
     "ename": "ValueError",
     "evalue": "invalid literal for int() with base 10: 'Hello World'",
     "output_type": "error",
     "traceback": [
      "\u001b[0;31m---------------------------------------------------------------------------\u001b[0m",
      "\u001b[0;31mValueError\u001b[0m                                Traceback (most recent call last)",
      "\u001b[0;32m<ipython-input-7-a71ee050d248>\u001b[0m in \u001b[0;36m<module>\u001b[0;34m\u001b[0m\n\u001b[0;32m----> 1\u001b[0;31m \u001b[0mprint\u001b[0m\u001b[0;34m(\u001b[0m\u001b[0mint\u001b[0m\u001b[0;34m(\u001b[0m\u001b[0;34m'Hello World'\u001b[0m\u001b[0;34m)\u001b[0m\u001b[0;34m)\u001b[0m\u001b[0;34m\u001b[0m\u001b[0;34m\u001b[0m\u001b[0m\n\u001b[0m",
      "\u001b[0;31mValueError\u001b[0m: invalid literal for int() with base 10: 'Hello World'"
     ]
    }
   ],
   "source": [
    "print(int('Hello World'))"
   ]
  },
  {
   "cell_type": "markdown",
   "metadata": {
    "slideshow": {
     "slide_type": "slide"
    }
   },
   "source": [
    "## Operationen"
   ]
  },
  {
   "cell_type": "code",
   "execution_count": 47,
   "metadata": {
    "slideshow": {
     "slide_type": "subslide"
    }
   },
   "outputs": [
    {
     "name": "stdout",
     "output_type": "stream",
     "text": [
      "42\n",
      "20.0\n",
      "<class 'float'>\n",
      "20.0\n",
      "256\n"
     ]
    }
   ],
   "source": [
    "# integer / float\n",
    "print(40 + 2)\n",
    "foo = 40 / 2\n",
    "print(foo)\n",
    "print(type(foo))\n",
    "print(0.5 * 40)\n",
    "print(2 ** 8)"
   ]
  },
  {
   "cell_type": "code",
   "execution_count": 31,
   "metadata": {
    "slideshow": {
     "slide_type": "subslide"
    }
   },
   "outputs": [
    {
     "name": "stdout",
     "output_type": "stream",
     "text": [
      "foobar\n",
      "AAA\n",
      "python\n"
     ]
    }
   ],
   "source": [
    "# strings\n",
    "print('foo' + 'bar')\n",
    "print(3 * 'A')\n",
    "print('py' 'thon')"
   ]
  },
  {
   "cell_type": "code",
   "execution_count": 78,
   "metadata": {
    "slideshow": {
     "slide_type": "subslide"
    }
   },
   "outputs": [
    {
     "name": "stdout",
     "output_type": "stream",
     "text": [
      "True\n",
      "False\n",
      "False\n",
      "\n",
      "True\n",
      "True\n",
      "False\n"
     ]
    }
   ],
   "source": [
    "# booleans\n",
    "print(True & True)  # and\n",
    "print(True & False) # and\n",
    "print(False & False)# and\n",
    "print()\n",
    "print(True | False) # or\n",
    "print(True | True)  # or\n",
    "print(False | False)# or"
   ]
  },
  {
   "cell_type": "markdown",
   "metadata": {
    "slideshow": {
     "slide_type": "subslide"
    }
   },
   "source": [
    "**Aufgabe**:\n",
    "\n",
    "* Benutze Python als Taschenrechner für: $(4 * 15) + 3$ und speicher das Ergebnis in der Variable `foo`\n",
    "* Printe einen String der das Ergebnis anzeigt - z.B. *Das Ergebnis ist 123*"
   ]
  },
  {
   "cell_type": "markdown",
   "metadata": {
    "slideshow": {
     "slide_type": "slide"
    }
   },
   "source": [
    "## Script schreiben und ausführen\n",
    "\n",
    "Jupyter Notebook ist gut zum partiellen ausführen von Code-Blöcken - jedoch eignet es sich nicht gut als Script welches man eine bestimmte Anzahl von malen ausführen möchte.\n",
    "\n",
    "Dafür legt man in einem Editor seiner Wahl eine neue Datei mit der Endung `.py` an und schreibt dort den Code.\n",
    "\n",
    "Wenn man die Datei abgespeichert hat öffnet man eine Konsole und wechselt in das Verzeichnis der Datei und führt das Script mithilfe von\n",
    "\n",
    "```\n",
    "python3 my_script.py\n",
    "```\n",
    "\n",
    "aus."
   ]
  },
  {
   "cell_type": "markdown",
   "metadata": {
    "slideshow": {
     "slide_type": "slide"
    }
   },
   "source": [
    "## Input\n",
    "\n",
    "Programme ohne Interkation zur Außenwelt sind selten interessant.\n",
    "\n",
    "Die einfachste Art in Python um einen Input vom User zu bekommen ist die Funktion `input`, welche die Eingabe eines Benutzers in einer Variable speichert."
   ]
  },
  {
   "cell_type": "code",
   "execution_count": 71,
   "metadata": {
    "slideshow": {
     "slide_type": "subslide"
    }
   },
   "outputs": [
    {
     "name": "stdin",
     "output_type": "stream",
     "text": [
      "Wie heißt du?  Dennis\n"
     ]
    },
    {
     "name": "stdout",
     "output_type": "stream",
     "text": [
      "Hallo Dennis\n"
     ]
    }
   ],
   "source": [
    "name = input('Wie heißt du? ')\n",
    "print('Hallo ' + name)"
   ]
  },
  {
   "cell_type": "markdown",
   "metadata": {
    "slideshow": {
     "slide_type": "subslide"
    }
   },
   "source": [
    "**Aufgabe**\n",
    "\n",
    "* Schreibe ein Programm welches den Namen und Alter abfragt und das Geburtsjahr anhand des Alters berechnet"
   ]
  },
  {
   "cell_type": "markdown",
   "metadata": {
    "slideshow": {
     "slide_type": "slide"
    }
   },
   "source": [
    "## Listen\n",
    "\n",
    "Listen sind eine Ansammlung von Datentypen.\n",
    "\n",
    "Die Elemente in einer Liste werden aufsteigend mit der `0` durchnumeriert und können so auch abgerufen werden - man nennt dies den *Index*."
   ]
  },
  {
   "cell_type": "code",
   "execution_count": 39,
   "metadata": {},
   "outputs": [
    {
     "name": "stdout",
     "output_type": "stream",
     "text": [
      "[0, 1, 2, 3]\n",
      "0\n",
      "1\n"
     ]
    }
   ],
   "source": [
    "foo = [0, 1, 2, 3]\n",
    "print(foo)\n",
    "print(foo[0])\n",
    "print(foo[1])"
   ]
  },
  {
   "cell_type": "code",
   "execution_count": 41,
   "metadata": {
    "slideshow": {
     "slide_type": "subslide"
    }
   },
   "outputs": [
    {
     "name": "stdout",
     "output_type": "stream",
     "text": [
      "3\n"
     ]
    }
   ],
   "source": [
    "# negativer index\n",
    "foo = [0, 1, 2, 3]\n",
    "print(foo[-1])"
   ]
  },
  {
   "cell_type": "code",
   "execution_count": 46,
   "metadata": {
    "slideshow": {
     "slide_type": "subslide"
    }
   },
   "outputs": [
    {
     "name": "stdout",
     "output_type": "stream",
     "text": [
      "[0, 1, 2, 3, 4, 5, 6]\n",
      "[5, 5, 5]\n"
     ]
    }
   ],
   "source": [
    "# operationen mit listen\n",
    "foo = [0, 1, 2, 3]\n",
    "bar = [4, 5, 6]\n",
    "print(foo + bar)\n",
    "print(3 * [5])"
   ]
  },
  {
   "cell_type": "code",
   "execution_count": 53,
   "metadata": {
    "slideshow": {
     "slide_type": "subslide"
    }
   },
   "outputs": [
    {
     "name": "stdout",
     "output_type": "stream",
     "text": [
      "[0, 1]\n",
      "[0, 1, 2]\n",
      "[0, 2]\n",
      "[0]\n"
     ]
    }
   ],
   "source": [
    "# listen bearbeiten\n",
    "foo = [0, 1]\n",
    "print(foo)\n",
    "foo.append(2)\n",
    "print(foo)\n",
    "foo.remove(1)  # lösche eintrag mit dem wert 1\n",
    "print(foo)\n",
    "foo.pop(1)  # lösche eintrag mit index 1\n",
    "print(foo)"
   ]
  },
  {
   "cell_type": "code",
   "execution_count": 56,
   "metadata": {
    "slideshow": {
     "slide_type": "subslide"
    }
   },
   "outputs": [
    {
     "name": "stdout",
     "output_type": "stream",
     "text": [
      "['hello', 'world']\n",
      "2\n"
     ]
    },
    {
     "ename": "IndexError",
     "evalue": "list index out of range",
     "output_type": "error",
     "traceback": [
      "\u001b[0;31m---------------------------------------------------------------------------\u001b[0m",
      "\u001b[0;31mIndexError\u001b[0m                                Traceback (most recent call last)",
      "\u001b[0;32m<ipython-input-56-3192d61487ce>\u001b[0m in \u001b[0;36m<module>\u001b[0;34m\u001b[0m\n\u001b[1;32m      2\u001b[0m \u001b[0mprint\u001b[0m\u001b[0;34m(\u001b[0m\u001b[0mfoo\u001b[0m\u001b[0;34m)\u001b[0m\u001b[0;34m\u001b[0m\u001b[0;34m\u001b[0m\u001b[0m\n\u001b[1;32m      3\u001b[0m \u001b[0mprint\u001b[0m\u001b[0;34m(\u001b[0m\u001b[0mlen\u001b[0m\u001b[0;34m(\u001b[0m\u001b[0mfoo\u001b[0m\u001b[0;34m)\u001b[0m\u001b[0;34m)\u001b[0m\u001b[0;34m\u001b[0m\u001b[0;34m\u001b[0m\u001b[0m\n\u001b[0;32m----> 4\u001b[0;31m \u001b[0mfoo\u001b[0m\u001b[0;34m[\u001b[0m\u001b[0;36m5\u001b[0m\u001b[0;34m]\u001b[0m\u001b[0;34m\u001b[0m\u001b[0;34m\u001b[0m\u001b[0m\n\u001b[0m",
      "\u001b[0;31mIndexError\u001b[0m: list index out of range"
     ]
    }
   ],
   "source": [
    "foo = ['hello', 'world']\n",
    "print(foo)\n",
    "print(len(foo))\n",
    "foo[5]"
   ]
  },
  {
   "cell_type": "code",
   "execution_count": 62,
   "metadata": {
    "slideshow": {
     "slide_type": "subslide"
    }
   },
   "outputs": [
    {
     "name": "stdout",
     "output_type": "stream",
     "text": [
      "['a', 'b']\n"
     ]
    }
   ],
   "source": [
    "# slicing\n",
    "foo = ['a', 'b', 'c', 'd']\n",
    "print(foo[0:2])"
   ]
  },
  {
   "cell_type": "code",
   "execution_count": 79,
   "metadata": {
    "slideshow": {
     "slide_type": "subslide"
    }
   },
   "outputs": [
    {
     "name": "stdout",
     "output_type": "stream",
     "text": [
      "['a', 'b', 'c', 'd', 'e', 'f']\n"
     ]
    }
   ],
   "source": [
    "# string -> list\n",
    "foo = 'a,b,c,d,e,f'\n",
    "print(foo.split(','))"
   ]
  },
  {
   "cell_type": "markdown",
   "metadata": {
    "slideshow": {
     "slide_type": "subslide"
    }
   },
   "source": [
    "Strings verhalten sich ähnlich zu Listen - man kann einzelne Buchstaben mithilfe eines Indizes anspringen.\n",
    "\n",
    "**Aufgabe**\n",
    "\n",
    "* Wie lautet der Ausdruck aus um den letzten Buchstaben des Strings \"Clara Schumann\" anzuzeigen?\n"
   ]
  },
  {
   "cell_type": "markdown",
   "metadata": {
    "slideshow": {
     "slide_type": "slide"
    }
   },
   "source": [
    "## Dictionaries / Hash Maps\n",
    "\n",
    "Dictionaries speichern zu einem *Key* einen *Value* - diese können beliebige Typen sein."
   ]
  },
  {
   "cell_type": "code",
   "execution_count": 93,
   "metadata": {},
   "outputs": [
    {
     "name": "stdout",
     "output_type": "stream",
     "text": [
      "{0: 'a', 1: 'b', 2: 'c', 3: 'd'}\n",
      "c\n"
     ]
    }
   ],
   "source": [
    "foo = {\n",
    "    0: 'a',\n",
    "    1: 'b',\n",
    "    2: 'c',\n",
    "    3: 'd',\n",
    "}\n",
    "print(foo)\n",
    "print(foo[2])"
   ]
  },
  {
   "cell_type": "markdown",
   "metadata": {
    "slideshow": {
     "slide_type": "slide"
    }
   },
   "source": [
    "## Control Flows\n",
    "\n",
    "Mit *Control Flows* können wir den Fluss von unserem Programm steuern.\n",
    "\n",
    "Einrückungen in Python werden durch Leerzeichen oder Tabs gemacht - in anderen Programmiersprachen benutzt man dafür Klammern."
   ]
  },
  {
   "cell_type": "markdown",
   "metadata": {
    "slideshow": {
     "slide_type": "slide"
    }
   },
   "source": [
    "### `if`\n",
    "\n",
    "Das `if` statement bindet die Ausführung von Code-Zeilen an eine Kondition (*Condition*)."
   ]
  },
  {
   "cell_type": "code",
   "execution_count": 64,
   "metadata": {},
   "outputs": [
    {
     "name": "stdout",
     "output_type": "stream",
     "text": [
      "Foo is bigger than 0\n"
     ]
    }
   ],
   "source": [
    "foo = 42\n",
    "\n",
    "if foo > 0:\n",
    "    print('Foo is bigger than 0')\n",
    "else:\n",
    "    print('Foo is less or equal 0')"
   ]
  },
  {
   "cell_type": "code",
   "execution_count": 68,
   "metadata": {
    "slideshow": {
     "slide_type": "subslide"
    }
   },
   "outputs": [
    {
     "name": "stdout",
     "output_type": "stream",
     "text": [
      "Foo is bigger than 0\n",
      "Foo is bigger than 30\n"
     ]
    }
   ],
   "source": [
    "# multiple if statements\n",
    "foo = 42\n",
    "\n",
    "if foo > 0:\n",
    "    print('Foo is bigger than 0')\n",
    "if foo > 30:\n",
    "    print('Foo is bigger than 30')\n",
    "else:\n",
    "    print('Foo is less or equal 0')"
   ]
  },
  {
   "cell_type": "code",
   "execution_count": 84,
   "metadata": {
    "slideshow": {
     "slide_type": "subslide"
    }
   },
   "outputs": [
    {
     "name": "stdout",
     "output_type": "stream",
     "text": [
      "Foo is bigger than 0\n"
     ]
    }
   ],
   "source": [
    "# elif matcht nur eine condition\n",
    "foo = 42\n",
    "\n",
    "if foo > 0:\n",
    "    print('Foo is bigger than 0')\n",
    "elif foo > 30:\n",
    "    print('Foo is bigger than 30')\n",
    "else:\n",
    "    print('Foo is less or equal 0')"
   ]
  },
  {
   "cell_type": "code",
   "execution_count": 8,
   "metadata": {
    "slideshow": {
     "slide_type": "subslide"
    }
   },
   "outputs": [
    {
     "name": "stdout",
     "output_type": "stream",
     "text": [
      "We hit something\n"
     ]
    }
   ],
   "source": [
    "# multiple coniditions\n",
    "\n",
    "foo = False\n",
    "bar = 42\n",
    "\n",
    "if foo is False and bar > 40:\n",
    "    print('We hit something')"
   ]
  },
  {
   "cell_type": "markdown",
   "metadata": {
    "slideshow": {
     "slide_type": "slide"
    }
   },
   "source": [
    "## `for`\n",
    "\n",
    "Das `for` statement führt Code-Zeilen für jedes Element einer Liste aus, wobei wir das einzelne Element in dieser Liste mit einer neuen Variable versehen."
   ]
  },
  {
   "cell_type": "code",
   "execution_count": 76,
   "metadata": {},
   "outputs": [
    {
     "name": "stdout",
     "output_type": "stream",
     "text": [
      "1\n",
      "2\n",
      "3\n"
     ]
    }
   ],
   "source": [
    "foo = [1, 2, 3]\n",
    "\n",
    "for i in foo:\n",
    "    print(i)"
   ]
  },
  {
   "cell_type": "markdown",
   "metadata": {
    "slideshow": {
     "slide_type": "subslide"
    }
   },
   "source": [
    "**Aufgabe**\n",
    "\n",
    "* Erzeuge eine Liste von 0 bis 9 mithilfe von `range(10)` und zeige alle Zahlen an die größer als 5 sind."
   ]
  },
  {
   "cell_type": "markdown",
   "metadata": {
    "slideshow": {
     "slide_type": "slide"
    }
   },
   "source": [
    "## Funktionen\n",
    "\n",
    "Um wiederkehrende Operationen nicht immer neu schreiben zu müssen abstrahiert man diese in *Funktionen*.\n",
    "\n",
    "Diese können zusätzlich Arguemnte annehmen und können mithilfe von `return` auch Datenwerte zurückgeben die man wiederum in einer Variable speichern kann."
   ]
  },
  {
   "cell_type": "code",
   "execution_count": 86,
   "metadata": {},
   "outputs": [
    {
     "name": "stdout",
     "output_type": "stream",
     "text": [
      "Hello\n"
     ]
    }
   ],
   "source": [
    "def say_hello():\n",
    "    print('Hello')\n",
    "\n",
    "say_hello()"
   ]
  },
  {
   "cell_type": "code",
   "execution_count": 87,
   "metadata": {
    "slideshow": {
     "slide_type": "subslide"
    }
   },
   "outputs": [
    {
     "name": "stdout",
     "output_type": "stream",
     "text": [
      "Hello\n"
     ]
    }
   ],
   "source": [
    "def give_hello():\n",
    "    return \"Hello\"\n",
    "\n",
    "print(give_hello())"
   ]
  },
  {
   "cell_type": "code",
   "execution_count": 89,
   "metadata": {
    "slideshow": {
     "slide_type": "subslide"
    }
   },
   "outputs": [
    {
     "name": "stdout",
     "output_type": "stream",
     "text": [
      "Hello Clara\n"
     ]
    }
   ],
   "source": [
    "def say_my_name(name):\n",
    "    return \"Hello \" + name\n",
    "\n",
    "print(say_my_name('Clara'))"
   ]
  },
  {
   "cell_type": "code",
   "execution_count": 90,
   "metadata": {
    "slideshow": {
     "slide_type": "subslide"
    }
   },
   "outputs": [
    {
     "name": "stdout",
     "output_type": "stream",
     "text": [
      "Hello ClaraHello ClaraHello ClaraHello ClaraHello Clara\n"
     ]
    }
   ],
   "source": [
    "def say_my_name_n_times(name, n_times):\n",
    "    return say_my_name(name) * n_times\n",
    "\n",
    "print(say_my_name_n_times('Clara', 5))"
   ]
  },
  {
   "cell_type": "code",
   "execution_count": 94,
   "metadata": {
    "slideshow": {
     "slide_type": "subslide"
    }
   },
   "outputs": [
    {
     "data": {
      "text/plain": [
       "'Hello ClaraHello Clara'"
      ]
     },
     "execution_count": 94,
     "metadata": {},
     "output_type": "execute_result"
    }
   ],
   "source": [
    "# kwargs and args\n",
    "def say_my_name_n_times(name, n_times=2):\n",
    "    return say_my_name(name) * n_times\n",
    "\n",
    "say_my_name_n_times('Clara')"
   ]
  },
  {
   "cell_type": "markdown",
   "metadata": {
    "slideshow": {
     "slide_type": "slide"
    }
   },
   "source": [
    "## Scope\n",
    "\n",
    "Der *Scope* einer Funktion gibt an ob wir Zugriff auf eine Variable haben oder nicht.\n",
    "\n",
    "In Python hat man in der Regel nur Zugriff auf die Variablen aus der kleineren Einrückung und die über der Zeile stehen."
   ]
  },
  {
   "cell_type": "code",
   "execution_count": 2,
   "metadata": {
    "slideshow": {
     "slide_type": "subslide"
    }
   },
   "outputs": [
    {
     "ename": "NameError",
     "evalue": "name 'bar' is not defined",
     "output_type": "error",
     "traceback": [
      "\u001b[0;31m---------------------------------------------------------------------------\u001b[0m",
      "\u001b[0;31mNameError\u001b[0m                                 Traceback (most recent call last)",
      "\u001b[0;32m<ipython-input-2-efb0728ae784>\u001b[0m in \u001b[0;36m<module>\u001b[0;34m\u001b[0m\n\u001b[1;32m      1\u001b[0m \u001b[0mfoo\u001b[0m \u001b[0;34m=\u001b[0m \u001b[0;36m42\u001b[0m\u001b[0;34m\u001b[0m\u001b[0;34m\u001b[0m\u001b[0m\n\u001b[1;32m      2\u001b[0m \u001b[0;34m\u001b[0m\u001b[0m\n\u001b[0;32m----> 3\u001b[0;31m \u001b[0;32mif\u001b[0m \u001b[0mbar\u001b[0m \u001b[0;32mis\u001b[0m \u001b[0;32mTrue\u001b[0m\u001b[0;34m:\u001b[0m\u001b[0;34m\u001b[0m\u001b[0;34m\u001b[0m\u001b[0m\n\u001b[0m\u001b[1;32m      4\u001b[0m     \u001b[0mprint\u001b[0m\u001b[0;34m(\u001b[0m\u001b[0mfoo\u001b[0m\u001b[0;34m)\u001b[0m\u001b[0;34m\u001b[0m\u001b[0;34m\u001b[0m\u001b[0m\n\u001b[1;32m      5\u001b[0m \u001b[0;34m\u001b[0m\u001b[0m\n",
      "\u001b[0;31mNameError\u001b[0m: name 'bar' is not defined"
     ]
    }
   ],
   "source": [
    "foo = 42\n",
    "\n",
    "if bar is True:\n",
    "    print(foo)\n",
    "\n",
    "bar = True"
   ]
  },
  {
   "cell_type": "code",
   "execution_count": 3,
   "metadata": {
    "slideshow": {
     "slide_type": "subslide"
    }
   },
   "outputs": [
    {
     "name": "stdout",
     "output_type": "stream",
     "text": [
      "Hello\n"
     ]
    }
   ],
   "source": [
    "foo = 'Hello'\n",
    "\n",
    "def my_func():\n",
    "    print(foo)\n",
    "\n",
    "my_func()"
   ]
  },
  {
   "cell_type": "code",
   "execution_count": 5,
   "metadata": {
    "slideshow": {
     "slide_type": "subslide"
    }
   },
   "outputs": [
    {
     "ename": "NameError",
     "evalue": "name 'foo' is not defined",
     "output_type": "error",
     "traceback": [
      "\u001b[0;31m---------------------------------------------------------------------------\u001b[0m",
      "\u001b[0;31mNameError\u001b[0m                                 Traceback (most recent call last)",
      "\u001b[0;32m<ipython-input-5-31504fd18de0>\u001b[0m in \u001b[0;36m<module>\u001b[0;34m\u001b[0m\n\u001b[1;32m      6\u001b[0m     \u001b[0;32mreturn\u001b[0m \u001b[0mbar\u001b[0m\u001b[0;34m\u001b[0m\u001b[0;34m\u001b[0m\u001b[0m\n\u001b[1;32m      7\u001b[0m \u001b[0;34m\u001b[0m\u001b[0m\n\u001b[0;32m----> 8\u001b[0;31m \u001b[0mprint\u001b[0m\u001b[0;34m(\u001b[0m\u001b[0mfoo\u001b[0m\u001b[0;34m)\u001b[0m\u001b[0;34m\u001b[0m\u001b[0;34m\u001b[0m\u001b[0m\n\u001b[0m",
      "\u001b[0;31mNameError\u001b[0m: name 'foo' is not defined"
     ]
    }
   ],
   "source": [
    "del foo\n",
    "\n",
    "def my_func():\n",
    "    foo = 42\n",
    "    bar = 2\n",
    "    return bar\n",
    "\n",
    "print(foo)"
   ]
  },
  {
   "cell_type": "markdown",
   "metadata": {
    "slideshow": {
     "slide_type": "slide"
    }
   },
   "source": [
    "## PEP8\n",
    "\n",
    "Wenn mehrere Leute an einem Projekt arbeiten ist es sinnvoll sich an sogennante *Style Guidelines* zu halten, die die Formatierung wie Namen von Variablen, Funktionen oder Art der Einrückungen vereinheitlichen.\n",
    "\n",
    "Bei Python nennt sich dieser Standard *pep8* und ist hier sepzifiziert:\n",
    "https://www.python.org/dev/peps/pep-0008/\n",
    "\n",
    "Art | Konvention | Beispiel\n",
    "--- | --- | ---\n",
    "Variablen | alles klein, wobei Leerzeichen durch `_` ersetzt werden | `my_variable`\n",
    "konstante Variablen | alles groß geschrieben ' \n",
    "Funktionen | alles klein, wobei Leerzeichen durch `_` ersetzt werden | `my_function`\n",
    "Klassen | CamelCase | `MyClass`"
   ]
  },
  {
   "cell_type": "markdown",
   "metadata": {
    "slideshow": {
     "slide_type": "slide"
    }
   },
   "source": [
    "## git\n",
    "\n",
    "*git* ist ein *Versions Kontroll System (VCS - Version Control System)* womit mehrere Leute an einem Textprojekt arbeiten können.\n",
    "Jede Veränderung ist ein inkrement und "
   ]
  }
 ],
 "metadata": {
  "kernelspec": {
   "display_name": "Python 3",
   "language": "python",
   "name": "python3"
  },
  "language_info": {
   "codemirror_mode": {
    "name": "ipython",
    "version": 3
   },
   "file_extension": ".py",
   "mimetype": "text/x-python",
   "name": "python",
   "nbconvert_exporter": "python",
   "pygments_lexer": "ipython3",
   "version": "3.7.6"
  }
 },
 "nbformat": 4,
 "nbformat_minor": 4
}
