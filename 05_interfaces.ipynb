{
 "cells": [
  {
   "cell_type": "markdown",
   "metadata": {
    "slideshow": {
     "slide_type": "slide"
    }
   },
   "source": [
    "# Programmierkurs Python\n",
    "\n",
    "## Sitzung 5 - Schnittstellen"
   ]
  },
  {
   "cell_type": "markdown",
   "metadata": {
    "slideshow": {
     "slide_type": "subslide"
    }
   },
   "source": [
    "Wie können wir Python nutzen um mit der Außenwelt zu kommunizieren - sei es Internet oder auf dem eigenen Rechner Supercollider.\n",
    "\n",
    "Wir wollen versuchen die Events von [Github](http://github.com) mithilfe von Supercollider zu sonifizieren. "
   ]
  },
  {
   "cell_type": "markdown",
   "metadata": {
    "slideshow": {
     "slide_type": "slide"
    }
   },
   "source": [
    "## Internet"
   ]
  },
  {
   "cell_type": "markdown",
   "metadata": {
    "slideshow": {
     "slide_type": "subslide"
    }
   },
   "source": [
    "Eine gute Bibliothek um mithilfe von Python einfach mit dem Internet zu agieren ist *requests* welche man sich darüber installieren kann das man in einem neuen Shell Fesnter den Befehel\n",
    "\n",
    "```shell\n",
    "pip3 install requests\n",
    "```\n",
    "\n",
    "ausführt."
   ]
  },
  {
   "cell_type": "code",
   "execution_count": 1,
   "metadata": {},
   "outputs": [],
   "source": [
    "import requests"
   ]
  },
  {
   "cell_type": "markdown",
   "metadata": {
    "slideshow": {
     "slide_type": "subslide"
    }
   },
   "source": [
    "Die Infos die wir sonifizieren wollen sind unter der Internetaddresse [https://api.github.com/events](https://api.github.com/events) erreichbar, welche man auch aus dem Webbrowser aufrufen kann.\n",
    "\n",
    "Wir können mithilfe der *requests* Bibliothek auch leicht Informationen aus dem Internet abrufen."
   ]
  },
  {
   "cell_type": "code",
   "execution_count": 2,
   "metadata": {
    "slideshow": {
     "slide_type": "subslide"
    }
   },
   "outputs": [
    {
     "data": {
      "text/plain": [
       "<Response [200]>"
      ]
     },
     "execution_count": 2,
     "metadata": {},
     "output_type": "execute_result"
    }
   ],
   "source": [
    "r = requests.get('https://api.github.com/events')\n",
    "r"
   ]
  },
  {
   "cell_type": "markdown",
   "metadata": {},
   "source": [
    "Die *Response* vom GitHub Server ist 200, was bedeutet dass die Anfrage erfolgreich war.\n",
    "\n",
    "Eine anderer bekannter Status Code ist 404 der benutzt wird wenn die Adresse unbekannt ist."
   ]
  },
  {
   "cell_type": "markdown",
   "metadata": {
    "slideshow": {
     "slide_type": "subslide"
    }
   },
   "source": [
    "Mithilfe von `r.text` können wir uns den Textinhalt der Response anschauen. (Ich limitiere hier durch die *Slicing* Schreibweise den Output auf die ersten 200 Zeichen)"
   ]
  },
  {
   "cell_type": "code",
   "execution_count": 3,
   "metadata": {},
   "outputs": [
    {
     "data": {
      "text/plain": [
       "'[{\"id\":\"11456033479\",\"type\":\"PushEvent\",\"actor\":{\"id\":60158507,\"login\":\"nvgunnell\",\"display_login\":\"nvgunnell\",\"gravatar_id\":\"\",\"url\":\"https://api.github.com/users/nvgunnell\",\"avatar_url\":\"https://ava'"
      ]
     },
     "execution_count": 3,
     "metadata": {},
     "output_type": "execute_result"
    }
   ],
   "source": [
    "r.text[0:200]"
   ]
  },
  {
   "cell_type": "markdown",
   "metadata": {},
   "source": [
    "Die ersten 200 Zeichen von [google.com](http://www.google.com) sehen daher so aus."
   ]
  },
  {
   "cell_type": "code",
   "execution_count": 4,
   "metadata": {},
   "outputs": [
    {
     "data": {
      "text/plain": [
       "'<!doctype html><html itemscope=\"\" itemtype=\"http://schema.org/WebPage\" lang=\"de\"><head><meta content=\"text/html; charset=UTF-8\" http-equiv=\"Content-Type\"><meta content=\"/images/branding/googleg/1x/goo'"
      ]
     },
     "execution_count": 4,
     "metadata": {},
     "output_type": "execute_result"
    }
   ],
   "source": [
    "requests.get('https://www.google.com').text[0:200]"
   ]
  },
  {
   "cell_type": "markdown",
   "metadata": {
    "slideshow": {
     "slide_type": "subslide"
    }
   },
   "source": [
    "Wenn wir mit einer *API (Application Programming Interface)* kommunizieren können wir die Antwort leicht in Objekte einer Programmiersprache übertragen.\n",
    "Ein bekannter Standarad hierfür ist die [ReST API](https://www.wikiwand.com/de/Representational_State_Transfer), welche mit [JSON](https://www.wikiwand.com/de/JavaScript_Object_Notation) einen Datentyp zurückgibt, der einem Python Dictionary sehr ähnlich ist."
   ]
  },
  {
   "cell_type": "code",
   "execution_count": 5,
   "metadata": {
    "slideshow": {
     "slide_type": "subslide"
    }
   },
   "outputs": [
    {
     "data": {
      "text/plain": [
       "{'id': '11456033479',\n",
       " 'type': 'PushEvent',\n",
       " 'actor': {'id': 60158507,\n",
       "  'login': 'nvgunnell',\n",
       "  'display_login': 'nvgunnell',\n",
       "  'gravatar_id': '',\n",
       "  'url': 'https://api.github.com/users/nvgunnell',\n",
       "  'avatar_url': 'https://avatars.githubusercontent.com/u/60158507?'},\n",
       " 'repo': {'id': 236526827,\n",
       "  'name': 'nvgunnell/nvgunnell.github.io',\n",
       "  'url': 'https://api.github.com/repos/nvgunnell/nvgunnell.github.io'},\n",
       " 'payload': {'push_id': 4597617952,\n",
       "  'size': 1,\n",
       "  'distinct_size': 1,\n",
       "  'ref': 'refs/heads/master',\n",
       "  'head': 'b5a65c45361e9af7cb21a40068d6a623afd9a5e7',\n",
       "  'before': 'd544aeddc000f7cc0ac548d531883328e9031599',\n",
       "  'commits': [{'sha': 'b5a65c45361e9af7cb21a40068d6a623afd9a5e7',\n",
       "    'author': {'email': '60158507+nvgunnell@users.noreply.github.com',\n",
       "     'name': 'nvgunnell'},\n",
       "    'message': 'Update UnitConverter.css',\n",
       "    'distinct': True,\n",
       "    'url': 'https://api.github.com/repos/nvgunnell/nvgunnell.github.io/commits/b5a65c45361e9af7cb21a40068d6a623afd9a5e7'}]},\n",
       " 'public': True,\n",
       " 'created_at': '2020-02-06T20:20:51Z'}"
      ]
     },
     "execution_count": 5,
     "metadata": {},
     "output_type": "execute_result"
    }
   ],
   "source": [
    "# umwandeln von github antwort in python dict\n",
    "j = r.json()\n",
    "j[0]  # wir zeigen nur den ersten Eintrag aus der Liste, welche j ist, an"
   ]
  },
  {
   "cell_type": "markdown",
   "metadata": {
    "slideshow": {
     "slide_type": "slide"
    }
   },
   "source": [
    "## Exkurs: Datenalyse\n",
    "\n",
    "Python ist wahrscheinlich die Sprache die man zur Datenanalyse nutzt.\n",
    "Ich will hier kurz zeigen wie man mithilfe von Bibliotheken wie [Pandas](http://pandas.pydata.org) sehr schnell und leicht einen Datensatz analysieren kann, jedoch gehe ich hier nicht tiefer darauf ein da dies ein Kurs für sich ist."
   ]
  },
  {
   "cell_type": "code",
   "execution_count": 6,
   "metadata": {
    "slideshow": {
     "slide_type": "subslide"
    }
   },
   "outputs": [],
   "source": [
    "import pandas as pd\n",
    "import matplotlib.pyplot as plt"
   ]
  },
  {
   "cell_type": "code",
   "execution_count": 7,
   "metadata": {},
   "outputs": [
    {
     "data": {
      "text/html": [
       "<div>\n",
       "<style scoped>\n",
       "    .dataframe tbody tr th:only-of-type {\n",
       "        vertical-align: middle;\n",
       "    }\n",
       "\n",
       "    .dataframe tbody tr th {\n",
       "        vertical-align: top;\n",
       "    }\n",
       "\n",
       "    .dataframe thead th {\n",
       "        text-align: right;\n",
       "    }\n",
       "</style>\n",
       "<table border=\"1\" class=\"dataframe\">\n",
       "  <thead>\n",
       "    <tr style=\"text-align: right;\">\n",
       "      <th></th>\n",
       "      <th>actor</th>\n",
       "      <th>created_at</th>\n",
       "      <th>id</th>\n",
       "      <th>org</th>\n",
       "      <th>payload</th>\n",
       "      <th>public</th>\n",
       "      <th>repo</th>\n",
       "      <th>type</th>\n",
       "    </tr>\n",
       "  </thead>\n",
       "  <tbody>\n",
       "    <tr>\n",
       "      <th>0</th>\n",
       "      <td>{'id': 60158507, 'login': 'nvgunnell', 'displa...</td>\n",
       "      <td>2020-02-06T20:20:51Z</td>\n",
       "      <td>11456033479</td>\n",
       "      <td>NaN</td>\n",
       "      <td>{'push_id': 4597617952, 'size': 1, 'distinct_s...</td>\n",
       "      <td>True</td>\n",
       "      <td>{'id': 236526827, 'name': 'nvgunnell/nvgunnell...</td>\n",
       "      <td>PushEvent</td>\n",
       "    </tr>\n",
       "    <tr>\n",
       "      <th>1</th>\n",
       "      <td>{'id': 28676608, 'login': 'OtavioCastro', 'dis...</td>\n",
       "      <td>2020-02-06T20:20:51Z</td>\n",
       "      <td>11456033473</td>\n",
       "      <td>NaN</td>\n",
       "      <td>{'push_id': 4597617962, 'size': 1, 'distinct_s...</td>\n",
       "      <td>True</td>\n",
       "      <td>{'id': 235352341, 'name': 'OtavioCastro/spring...</td>\n",
       "      <td>PushEvent</td>\n",
       "    </tr>\n",
       "    <tr>\n",
       "      <th>2</th>\n",
       "      <td>{'id': 160377, 'login': 'avoronkin', 'display_...</td>\n",
       "      <td>2020-02-06T20:20:51Z</td>\n",
       "      <td>11456033480</td>\n",
       "      <td>{'id': 13398246, 'login': 'rust-lang-ru', 'gra...</td>\n",
       "      <td>{'action': 'started'}</td>\n",
       "      <td>True</td>\n",
       "      <td>{'id': 198659024, 'name': 'rust-lang-ru/async-...</td>\n",
       "      <td>WatchEvent</td>\n",
       "    </tr>\n",
       "    <tr>\n",
       "      <th>3</th>\n",
       "      <td>{'id': 10810283, 'login': 'direwolf-github', '...</td>\n",
       "      <td>2020-02-06T20:20:51Z</td>\n",
       "      <td>11456033474</td>\n",
       "      <td>NaN</td>\n",
       "      <td>{'push_id': 4597617960, 'size': 1, 'distinct_s...</td>\n",
       "      <td>True</td>\n",
       "      <td>{'id': 238776821, 'name': 'direwolf-github/my-...</td>\n",
       "      <td>PushEvent</td>\n",
       "    </tr>\n",
       "    <tr>\n",
       "      <th>4</th>\n",
       "      <td>{'id': 1402941, 'login': 'shantamcbain', 'disp...</td>\n",
       "      <td>2020-02-06T20:20:51Z</td>\n",
       "      <td>11456033431</td>\n",
       "      <td>NaN</td>\n",
       "      <td>{'push_id': 4597617943, 'size': 1, 'distinct_s...</td>\n",
       "      <td>True</td>\n",
       "      <td>{'id': 3338213, 'name': 'shantamcbain/ComServ'...</td>\n",
       "      <td>PushEvent</td>\n",
       "    </tr>\n",
       "  </tbody>\n",
       "</table>\n",
       "</div>"
      ],
      "text/plain": [
       "                                               actor            created_at  \\\n",
       "0  {'id': 60158507, 'login': 'nvgunnell', 'displa...  2020-02-06T20:20:51Z   \n",
       "1  {'id': 28676608, 'login': 'OtavioCastro', 'dis...  2020-02-06T20:20:51Z   \n",
       "2  {'id': 160377, 'login': 'avoronkin', 'display_...  2020-02-06T20:20:51Z   \n",
       "3  {'id': 10810283, 'login': 'direwolf-github', '...  2020-02-06T20:20:51Z   \n",
       "4  {'id': 1402941, 'login': 'shantamcbain', 'disp...  2020-02-06T20:20:51Z   \n",
       "\n",
       "            id                                                org  \\\n",
       "0  11456033479                                                NaN   \n",
       "1  11456033473                                                NaN   \n",
       "2  11456033480  {'id': 13398246, 'login': 'rust-lang-ru', 'gra...   \n",
       "3  11456033474                                                NaN   \n",
       "4  11456033431                                                NaN   \n",
       "\n",
       "                                             payload  public  \\\n",
       "0  {'push_id': 4597617952, 'size': 1, 'distinct_s...    True   \n",
       "1  {'push_id': 4597617962, 'size': 1, 'distinct_s...    True   \n",
       "2                              {'action': 'started'}    True   \n",
       "3  {'push_id': 4597617960, 'size': 1, 'distinct_s...    True   \n",
       "4  {'push_id': 4597617943, 'size': 1, 'distinct_s...    True   \n",
       "\n",
       "                                                repo        type  \n",
       "0  {'id': 236526827, 'name': 'nvgunnell/nvgunnell...   PushEvent  \n",
       "1  {'id': 235352341, 'name': 'OtavioCastro/spring...   PushEvent  \n",
       "2  {'id': 198659024, 'name': 'rust-lang-ru/async-...  WatchEvent  \n",
       "3  {'id': 238776821, 'name': 'direwolf-github/my-...   PushEvent  \n",
       "4  {'id': 3338213, 'name': 'shantamcbain/ComServ'...   PushEvent  "
      ]
     },
     "execution_count": 7,
     "metadata": {},
     "output_type": "execute_result"
    }
   ],
   "source": [
    "df = pd.DataFrame(j)\n",
    "df.head()"
   ]
  },
  {
   "cell_type": "code",
   "execution_count": 8,
   "metadata": {
    "slideshow": {
     "slide_type": "subslide"
    }
   },
   "outputs": [
    {
     "data": {
      "text/plain": [
       "<matplotlib.axes._subplots.AxesSubplot at 0x10eb4c750>"
      ]
     },
     "execution_count": 8,
     "metadata": {},
     "output_type": "execute_result"
    },
    {
     "data": {
      "image/png": "[encoded data removed]",
      "text/plain": [
       "<Figure size 432x288 with 1 Axes>"
      ]
     },
     "metadata": {},
     "output_type": "display_data"
    }
   ],
   "source": [
    "df['type'].value_counts().plot.pie()"
   ]
  },
  {
   "cell_type": "markdown",
   "metadata": {},
   "source": [
    "Wir können so sehen dass die meisten Ergebnisse die uns Github anzeigt sogenannte *Push Events* sind."
   ]
  },
  {
   "cell_type": "markdown",
   "metadata": {
    "slideshow": {
     "slide_type": "slide"
    }
   },
   "source": [
    "## Supercollider Kommunikation"
   ]
  },
  {
   "cell_type": "markdown",
   "metadata": {},
   "source": [
    "Die Frage ist nun wie wir die Daten von Python nach Supercollider geschickt bekommen.\n",
    "\n",
    "Dazu kurz eine Zeichnung wie wir planen zu kommunizieren."
   ]
  },
  {
   "cell_type": "markdown",
   "metadata": {
    "slideshow": {
     "slide_type": "subslide"
    }
   },
   "source": [
    "```\n",
    "\n",
    "    Internet     |     Supercollider\n",
    "       |         |      \n",
    "       |         |        /|\\\n",
    "-------+---------|         |\n",
    "       |         |         |  OSC Protokoll\n",
    "http  \\|/        |         |  \n",
    "    Python ------+----------\n",
    "   requests      |\n",
    "                 |\n",
    "    \n",
    "```"
   ]
  },
  {
   "cell_type": "markdown",
   "metadata": {
    "slideshow": {
     "slide_type": "subslide"
    }
   },
   "source": [
    "Wir nutzen Python mit *requests* um Daten aus dem Internet an Supercollider zu schicken wobei wir dafür das [OSC Protokoll](https://www.wikiwand.com/de/Open_Sound_Control) nutzen.\n",
    "\n",
    "Hierbei spielt uns die Server-Architektur von Supercollider in die Hände da so Supercollider auch eine Internetadresse hat die jedoch auf unserem eigenen Rechner aufzufinden ist."
   ]
  },
  {
   "cell_type": "markdown",
   "metadata": {
    "slideshow": {
     "slide_type": "subslide"
    }
   },
   "source": [
    "Fahren wir nun einfach Supercollider hoch und schreiben in eine neue Datei den Code\n",
    "\n",
    "```supercollider\n",
    "s.boot;\n",
    "NetAddr.localAddr\n",
    "```\n",
    "und führen diese aus.\n",
    "\n",
    "Als Output sollten wir hierbei `a NetAddr(127.0.0.1, 57120)` bekommen.\n",
    "`127.0.0.1` ist die Internet Adresse vom eigenen Rechner (man spricht auch von einer Netzwerk- oder IP Adresse da diese Adresse auch ohne Internet verfügbar ist) und `57120` der Port unter dem Supercollider auf diesem Rechner *lauscht*.\n",
    "\n",
    "IP Adressen sind dabei einem Hochhaus entsprechend und Port einer Tür in diesem Hochhaus, unter der eine Anwendung Nachrichten annehmen kann."
   ]
  },
  {
   "cell_type": "markdown",
   "metadata": {
    "slideshow": {
     "slide_type": "slide"
    }
   },
   "source": [
    "### Python -> Supercollider\n",
    "\n",
    "Eine Bibliothek um OSC Nachrichten zu verschicken ist [`pythonosc`](https://pypi.org/project/python-osc/), welche man sich mithilfe von\n",
    "\n",
    "```shell\n",
    "pip3 install python-osc\n",
    "```\n",
    "\n",
    "installieren kann."
   ]
  },
  {
   "cell_type": "markdown",
   "metadata": {
    "slideshow": {
     "slide_type": "subslide"
    }
   },
   "source": [
    "Wir wollen zu Beginn erstmal eine Zahl von Python nach Supercollider via OSC schicken.\n",
    "\n",
    "Dafür regestrieren wir in Supercollider einen [*OSCdef*](https://doc.sccode.org/Classes/OSCdef.html) der auf den Kanal `pythonTest` hört, ein Argument annimmt, dieses Argument in ein Integer umwandelt und printet.\n",
    "\n",
    "```supercollider\n",
    "(\n",
    "OSCdef(\\pythonTest, {|msg|\n",
    "\tvar pythonNumber;\n",
    "\tpythonNumber = msg[1].asInteger;\n",
    "\tpythonNumber.postln;\n",
    "}, '\\pythonTest');\n",
    ")\n",
    "```\n",
    "\n",
    "Die Einzelheiten kann man in der [Supercollider Dokumentation](https://doc.sccode.org/Guides/OSC_communication.html#Receiving%2520OSC%2520from%2520another%2520application) nochmal nachlesen."
   ]
  },
  {
   "cell_type": "markdown",
   "metadata": {
    "slideshow": {
     "slide_type": "subslide"
    }
   },
   "source": [
    "Wir müssen nun in Python einen *Client* erstellen, der unsere OSC Nachricht an den Supercollider *Server* schickt.\n",
    "Supercollider nutzt dafür [UDP](https://www.wikiwand.com/de/User_Datagram_Protocol)."
   ]
  },
  {
   "cell_type": "code",
   "execution_count": 10,
   "metadata": {},
   "outputs": [],
   "source": [
    "from pythonosc import udp_client"
   ]
  },
  {
   "cell_type": "code",
   "execution_count": 17,
   "metadata": {
    "slideshow": {
     "slide_type": "subslide"
    }
   },
   "outputs": [],
   "source": [
    "# initierung des clienst ähnlich zu einem funktionsaufruf\n",
    "client = udp_client.SimpleUDPClient(\n",
    "    # addresse auf der supercollider läuft - 127.0.0.1 ist der eigene rechner\n",
    "    address='127.0.0.1',\n",
    "    # die \"tür\" von supercollider ist normal 57120\n",
    "    port=57120,\n",
    ")"
   ]
  },
  {
   "cell_type": "code",
   "execution_count": 23,
   "metadata": {
    "slideshow": {
     "slide_type": "subslide"
    }
   },
   "outputs": [],
   "source": [
    "client.send_message(\n",
    "    address='/pythonTest',\n",
    "    value=42,\n",
    ")"
   ]
  },
  {
   "cell_type": "markdown",
   "metadata": {},
   "source": [
    "Wir sollten in Supercollider den Wert `42` im *Post window* sehen."
   ]
  },
  {
   "cell_type": "markdown",
   "metadata": {
    "slideshow": {
     "slide_type": "slide"
    }
   },
   "source": [
    "### Klänge erzeugen"
   ]
  },
  {
   "cell_type": "markdown",
   "metadata": {
    "slideshow": {
     "slide_type": "subslide"
    }
   },
   "source": [
    "Wir fügen in Supercollider noch einen `SynthDef` *sine* hinzu der uns einen einfachen Sinus Ton erzeugen wird und als Parameter eine Frequenz `freq` annimmt.\n",
    "\n",
    "```supercollider\n",
    "OSCdef(\\pythonNumber, {|msg|\n",
    "\tvar pythonNumber;\n",
    "\tpythonNumber = msg[1].asInteger;\n",
    "\t{\n",
    "\t\tSinOsc.ar(pythonNumber, 0.0, EnvGen.kr(Env.linen(sustainTime: 0.2, releaseTime: 0.1), doneAction: Done.freeSelf));\n",
    "\t}.play;\n",
    "});\n",
    "```"
   ]
  },
  {
   "cell_type": "code",
   "execution_count": 25,
   "metadata": {
    "slideshow": {
     "slide_type": "subslide"
    }
   },
   "outputs": [],
   "source": [
    "client.send_message(\n",
    "    address='/pythonNumber',\n",
    "    value=420,\n",
    ")"
   ]
  },
  {
   "cell_type": "markdown",
   "metadata": {},
   "source": [
    "Man sollte einen kurzen Ton gehört haben."
   ]
  },
  {
   "cell_type": "markdown",
   "metadata": {
    "slideshow": {
     "slide_type": "slide"
    }
   },
   "source": [
    "### Wrap it all together\n",
    "\n",
    "Fügen wir nun die Puzzleteile zusammen.\n",
    "Anhand der [GitHub API Dokumentation](https://developer.github.com/v3/activity/events/#list-public-events) definieren wir ein Dictionary was einen String (also einem *type*) auf ein Integer (also eine Frequenz) *übersetzt*."
   ]
  },
  {
   "cell_type": "code",
   "execution_count": 27,
   "metadata": {},
   "outputs": [],
   "source": [
    "import time  # ermöglicht python code zu pausieren"
   ]
  },
  {
   "cell_type": "code",
   "execution_count": 26,
   "metadata": {
    "slideshow": {
     "slide_type": "subslide"
    }
   },
   "outputs": [],
   "source": [
    "freq_dict = {\n",
    "    'PushEvent': 100,\n",
    "    'CreateEvent': 1000,\n",
    "    'IssuesEvent': 400,\n",
    "    'PullRequestEvent': 800,\n",
    "    'WatchEvent': 333,\n",
    "    'ForkEvent': 200,\n",
    "    'IssueCommentEvent': 500,\n",
    "    'MemberEvent': 240,\n",
    "    'PullRequestReviewCommentEvent': 555,\n",
    "    'CommitCommentEvent': 252,\n",
    "    'DeleteEvent': 566,\n",
    "    'GollumEvent': 666,\n",
    "}"
   ]
  },
  {
   "cell_type": "code",
   "execution_count": 28,
   "metadata": {
    "slideshow": {
     "slide_type": "subslide"
    }
   },
   "outputs": [],
   "source": [
    "for i in range(10):\n",
    "    r = requests.get('https://api.github.com/events')\n",
    "    j = r.json()\n",
    "    for i in j:\n",
    "        # .get erlaubt uns einen backup wert zu setzen (hier 50) falls der *key*\n",
    "        # nicht im dictionary freq_dict vorhanden ist\n",
    "        freq = freq_dict.get(i['type'], 50)\n",
    "        client.send_message('/pythonNumber', freq)\n",
    "        # warte 0.1 sekunden bevor die nächste OSC message gesendet wird\n",
    "        time.sleep(0.1)"
   ]
  },
  {
   "cell_type": "markdown",
   "metadata": {},
   "source": [
    "Im Repostiroy ist mit `github.mp3` eine Aufnahme aus Supercollider zu hören."
   ]
  },
  {
   "cell_type": "markdown",
   "metadata": {
    "slideshow": {
     "slide_type": "subslide"
    }
   },
   "source": [
    "Wir hören das alle 30 Töne immer eine kurze Pause ertönt.\n",
    "Dies liegt daran dass in dieser Zeit Python die neuen Ereignisse aus der GitHub API lädt und Python immer nur ein Sache erledigen kann und es sehr kompliziert ist Sachen paralell auszuführen (siehe [GIL - Global Interpreter Lock](https://wiki.python.org/moin/GlobalInterpreterLock)).\n",
    "\n",
    "Wir sehen also dass Python Vor- und Nachteile hat - es ist sehr übersichtlich zu schreiben aber dafür nicht gut Sachen paralell auszuführen, was Supercollider sehr viel besser kann.\n",
    "\n",
    "Dies ist der Grund warum es so viele verschiende Programmiersprachen gibt, da jede Sprache einen anderen Fokus legt."
   ]
  },
  {
   "cell_type": "markdown",
   "metadata": {
    "slideshow": {
     "slide_type": "subslide"
    }
   },
   "source": [
    "Hinweis: Wenn man mehr als 60 Anfragen die Stunde an die API macht wird man gebannt von der API.\n",
    "Die Variable `j` sieht dann wie folgt aus\n",
    "\n",
    "```json\n",
    "{\n",
    "    \"message\": \"API rate limit exceeded for xxx.xxx.xxx.xxx. (But here's the good news: Authenticated requests get a higher rate limit. Check out the documentation for more details.)\",\n",
    "    \"documentation_url\": \"https://developer.github.com/v3/#rate-limiting\"\n",
    "}\n",
    "```"
   ]
  },
  {
   "cell_type": "markdown",
   "metadata": {
    "slideshow": {
     "slide_type": "slide"
    }
   },
   "source": [
    "## Ende!\n",
    "\n",
    "Vielen Dank für das Besuchen und Zuhören.\n",
    "\n",
    "Falls ihr Lust habt noch tiefer in das Programmieren einzusteigen sind hier ein paar gute Quellen:\n",
    "\n",
    "* [W3 Schools](https://www.w3schools.com/html/default.asp): Kurs zum Lernen von HTML welches für Websiten benötigt wird\n",
    "* [Learn you a Haskell](http://learnyouahaskell.com/): Tutorial zur funktionalen Programmiersprache Haskell\n",
    "* [SuperCollider Tutorials - Eli Fieldsteel](https://www.youtube.com/watch?v=yRzsOOiJ_p4&list=PLPYzvS8A_rTaNDweXe6PX4CXSGq4iEWYC): YouTube Tutorial zu Supercollider\n",
    "* [Automate the boring stuff](https://automatetheboringstuff.com/)"
   ]
  }
 ],
 "metadata": {
  "kernelspec": {
   "display_name": "Python 3",
   "language": "python",
   "name": "python3"
  },
  "language_info": {
   "codemirror_mode": {
    "name": "ipython",
    "version": 3
   },
   "file_extension": ".py",
   "mimetype": "text/x-python",
   "name": "python",
   "nbconvert_exporter": "python",
   "pygments_lexer": "ipython3",
   "version": "3.7.5"
  }
 },
 "nbformat": 4,
 "nbformat_minor": 4
}
