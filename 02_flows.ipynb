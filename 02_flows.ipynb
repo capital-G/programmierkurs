{
 "cells": [
  {
   "cell_type": "markdown",
   "metadata": {
    "slideshow": {
     "slide_type": "slide"
    }
   },
   "source": [
    "# Progammierkurs Python\n",
    "\n",
    "## Sitzung 2 - Flows"
   ]
  },
  {
   "cell_type": "markdown",
   "metadata": {
    "slideshow": {
     "slide_type": "slide"
    }
   },
   "source": [
    "Installiert euch *Visual Studio Code*.\n",
    "\n",
    "*Visual Studio Code* ist ein Code Editor für verschiedene Programmiersprachen."
   ]
  },
  {
   "cell_type": "markdown",
   "metadata": {
    "slideshow": {
     "slide_type": "slide"
    }
   },
   "source": [
    "## Script schreiben und ausführen\n",
    "\n",
    "Jupyter Notebook ist gut zum partiellen ausführen von Code-Blöcken - jedoch eignet es sich nicht gut als Script welches man eine bestimmte Anzahl von malen ausführen möchte.\n",
    "\n",
    "Dafür legt man in einem Editor (z.B. *Visual Studio Code*) eine neue Datei mit der Endung `.py` an und schreibt dort den Code.\n",
    "\n",
    "Wenn man die Datei abgespeichert hat öffnet man eine Konsole und wechselt in das Verzeichnis der Datei und führt das Script mithilfe von\n",
    "\n",
    "```\n",
    "python3 my_script.py\n",
    "```\n",
    "\n",
    "aus."
   ]
  },
  {
   "cell_type": "markdown",
   "metadata": {
    "slideshow": {
     "slide_type": "slide"
    }
   },
   "source": [
    "## Dictionaries / Hash Maps\n",
    "\n",
    "Dictionaries speichern zu einem *Key* einen *Value*.\n",
    "Die *Values* können dabei beliebig sein - *Keys* müssen unveränderbar (immutable) sein."
   ]
  },
  {
   "cell_type": "code",
   "execution_count": 1,
   "metadata": {
    "slideshow": {
     "slide_type": "subslide"
    }
   },
   "outputs": [
    {
     "name": "stdout",
     "output_type": "stream",
     "text": [
      "{0: 'a', 1: 'b', 2: 'c', 3: 'd'}\n"
     ]
    }
   ],
   "source": [
    "foo = {\n",
    "    0: 'a',\n",
    "    1: 'b',\n",
    "    2: 'c',\n",
    "    3: 'd',\n",
    "}\n",
    "print(foo)"
   ]
  },
  {
   "cell_type": "code",
   "execution_count": 2,
   "metadata": {},
   "outputs": [
    {
     "name": "stdout",
     "output_type": "stream",
     "text": [
      "a\n"
     ]
    }
   ],
   "source": [
    "# zugriff auf ein *value* mithilfe eines *keys* in einem dictionary,\n",
    "print(foo[0])"
   ]
  },
  {
   "cell_type": "code",
   "execution_count": 3,
   "metadata": {
    "slideshow": {
     "slide_type": "subslide"
    }
   },
   "outputs": [
    {
     "ename": "KeyError",
     "evalue": "'i do not exist'",
     "output_type": "error",
     "traceback": [
      "\u001b[0;31m---------------------------------------------------------------------------\u001b[0m",
      "\u001b[0;31mKeyError\u001b[0m                                  Traceback (most recent call last)",
      "\u001b[0;32m<ipython-input-3-a075d8932f32>\u001b[0m in \u001b[0;36m<module>\u001b[0;34m\u001b[0m\n\u001b[1;32m      1\u001b[0m \u001b[0;31m# zugriff auf nicht existierenden key\u001b[0m\u001b[0;34m\u001b[0m\u001b[0;34m\u001b[0m\u001b[0;34m\u001b[0m\u001b[0m\n\u001b[0;32m----> 2\u001b[0;31m \u001b[0mfoo\u001b[0m\u001b[0;34m[\u001b[0m\u001b[0;34m'i do not exist'\u001b[0m\u001b[0;34m]\u001b[0m\u001b[0;34m\u001b[0m\u001b[0;34m\u001b[0m\u001b[0m\n\u001b[0m",
      "\u001b[0;31mKeyError\u001b[0m: 'i do not exist'"
     ]
    }
   ],
   "source": [
    "# zugriff auf nicht existierenden key\n",
    "foo['i do not exist']"
   ]
  },
  {
   "cell_type": "markdown",
   "metadata": {
    "slideshow": {
     "slide_type": "subslide"
    }
   },
   "source": [
    "**Aufgabe**\n",
    "\n",
    "* Schreibt ein Programm welches beim Input einer Zahl zwischen 0 und 10 die Zahl ausschreibt"
   ]
  },
  {
   "cell_type": "markdown",
   "metadata": {
    "slideshow": {
     "slide_type": "slide"
    }
   },
   "source": [
    "## Exceptions\n",
    "\n",
    "*Exceptions* sind (un)erwartete Fehler die sich durch äußere Abähngigkeiten ergeben können.\n",
    "\n",
    "Wenn das Programm auf eine Exception stößt stürzt das Programm ab - wir können allerdings eine Exception *auffangen* und sagen was passieren soll falls wir auf eine Exception stoßen."
   ]
  },
  {
   "cell_type": "code",
   "execution_count": 4,
   "metadata": {},
   "outputs": [
    {
     "ename": "ZeroDivisionError",
     "evalue": "division by zero",
     "output_type": "error",
     "traceback": [
      "\u001b[0;31m---------------------------------------------------------------------------\u001b[0m",
      "\u001b[0;31mZeroDivisionError\u001b[0m                         Traceback (most recent call last)",
      "\u001b[0;32m<ipython-input-4-892840ca7299>\u001b[0m in \u001b[0;36m<module>\u001b[0;34m\u001b[0m\n\u001b[0;32m----> 1\u001b[0;31m \u001b[0;36m42\u001b[0m\u001b[0;34m/\u001b[0m\u001b[0;36m0\u001b[0m\u001b[0;34m\u001b[0m\u001b[0;34m\u001b[0m\u001b[0m\n\u001b[0m",
      "\u001b[0;31mZeroDivisionError\u001b[0m: division by zero"
     ]
    }
   ],
   "source": [
    "42/0"
   ]
  },
  {
   "cell_type": "code",
   "execution_count": 5,
   "metadata": {
    "slideshow": {
     "slide_type": "subslide"
    }
   },
   "outputs": [
    {
     "name": "stdout",
     "output_type": "stream",
     "text": [
      "You can not divide through 0\n"
     ]
    }
   ],
   "source": [
    "try:\n",
    "    42/0\n",
    "except:\n",
    "    print('You can not divide through 0')"
   ]
  },
  {
   "cell_type": "code",
   "execution_count": 6,
   "metadata": {
    "slideshow": {
     "slide_type": "subslide"
    }
   },
   "outputs": [
    {
     "name": "stdout",
     "output_type": "stream",
     "text": [
      "\"b\" ist nicht im dictionary\n"
     ]
    }
   ],
   "source": [
    "foo = {\n",
    "    'a': 1\n",
    "}\n",
    "\n",
    "try:\n",
    "    print(foo['b'])\n",
    "except KeyError:\n",
    "    # we can specify the exception we want to catch\n",
    "    print('\"b\" ist nicht im dictionary')"
   ]
  },
  {
   "cell_type": "code",
   "execution_count": 7,
   "metadata": {
    "slideshow": {
     "slide_type": "subslide"
    }
   },
   "outputs": [
    {
     "ename": "ZeroDivisionError",
     "evalue": "division by zero",
     "output_type": "error",
     "traceback": [
      "\u001b[0;31m---------------------------------------------------------------------------\u001b[0m",
      "\u001b[0;31mZeroDivisionError\u001b[0m                         Traceback (most recent call last)",
      "\u001b[0;32m<ipython-input-7-e403abe34edb>\u001b[0m in \u001b[0;36m<module>\u001b[0;34m\u001b[0m\n\u001b[1;32m      1\u001b[0m \u001b[0;32mtry\u001b[0m\u001b[0;34m:\u001b[0m\u001b[0;34m\u001b[0m\u001b[0;34m\u001b[0m\u001b[0m\n\u001b[0;32m----> 2\u001b[0;31m     \u001b[0;36m42\u001b[0m\u001b[0;34m/\u001b[0m\u001b[0;36m0\u001b[0m\u001b[0;34m\u001b[0m\u001b[0;34m\u001b[0m\u001b[0m\n\u001b[0m\u001b[1;32m      3\u001b[0m \u001b[0;32mexcept\u001b[0m \u001b[0mKeyError\u001b[0m\u001b[0;34m:\u001b[0m\u001b[0;34m\u001b[0m\u001b[0;34m\u001b[0m\u001b[0m\n\u001b[1;32m      4\u001b[0m     \u001b[0mprint\u001b[0m\u001b[0;34m(\u001b[0m\u001b[0;34m'e'\u001b[0m\u001b[0;34m)\u001b[0m\u001b[0;34m\u001b[0m\u001b[0;34m\u001b[0m\u001b[0m\n",
      "\u001b[0;31mZeroDivisionError\u001b[0m: division by zero"
     ]
    }
   ],
   "source": [
    "try:\n",
    "    42/0\n",
    "except KeyError:\n",
    "    print('e')"
   ]
  },
  {
   "cell_type": "code",
   "execution_count": 8,
   "metadata": {
    "slideshow": {
     "slide_type": "subslide"
    }
   },
   "outputs": [
    {
     "name": "stdout",
     "output_type": "stream",
     "text": [
      "Teile nicht durch 0! division by zero\n"
     ]
    }
   ],
   "source": [
    "try:\n",
    "    42/0\n",
    "except KeyError as e:\n",
    "    print('KeyError')\n",
    "except ZeroDivisionError as e:\n",
    "    print(f'Teile nicht durch 0! {e}')"
   ]
  },
  {
   "cell_type": "markdown",
   "metadata": {
    "slideshow": {
     "slide_type": "slide"
    }
   },
   "source": [
    "## `None`\n",
    "\n",
    "`None` ist ein sehr spezieller Typ der darauf hinweist das etwas nicht gesetzt worden ist.\n",
    "Wenn wir eine Variable initialisieren aber wir erst an einem späteren Zeitpunkt wissen welchen Wert die Variable hat ist `None` ein gutes Hilfsmittel.\n",
    "\n",
    "Gerade bei Boolean Werten oder Strings ist `None` sehr hilfreich.\n",
    "\n",
    "* Hat der User tatsächlich einen leeren String eingegeben oder haben wir nur vergessen den User zu Fragen nach seiner Eingabe?\n",
    "* Wurde der Boolean Wert tatsächlich gesetzt oder handelt es sich um den Default Wert?"
   ]
  },
  {
   "cell_type": "code",
   "execution_count": 9,
   "metadata": {
    "slideshow": {
     "slide_type": "subslide"
    }
   },
   "outputs": [],
   "source": [
    "ergebnis = None\n",
    "# some calculations\n",
    "ergebnis = 42"
   ]
  },
  {
   "cell_type": "code",
   "execution_count": 10,
   "metadata": {
    "slideshow": {
     "slide_type": "subslide"
    }
   },
   "outputs": [
    {
     "name": "stdout",
     "output_type": "stream",
     "text": [
      "We could not calculate your equation :(\n"
     ]
    }
   ],
   "source": [
    "ergebnis = None\n",
    "\n",
    "try:\n",
    "    ergebnis = 42/0\n",
    "except ZeroDivisionError:\n",
    "    pass  # pass means \"do nothing\"\n",
    "\n",
    "if ergebnis is None:\n",
    "    print('We could not calculate your equation :(')\n",
    "else:\n",
    "    print(f'Your result is {ergebnis}')"
   ]
  },
  {
   "cell_type": "markdown",
   "metadata": {
    "slideshow": {
     "slide_type": "slide"
    }
   },
   "source": [
    "## Control Flows\n",
    "\n",
    "Mit *Control Flows* können wir den Fluss von unserem Programm steuern.\n",
    "\n",
    "Einrückungen in Python werden durch Leerzeichen oder Tabs gemacht - in anderen Programmiersprachen benutzt man dafür Klammern."
   ]
  },
  {
   "cell_type": "markdown",
   "metadata": {
    "slideshow": {
     "slide_type": "slide"
    }
   },
   "source": [
    "### `if`\n",
    "\n",
    "Das `if` statement bindet die Ausführung von Code-Zeilen an eine Kondition (*Condition*)."
   ]
  },
  {
   "cell_type": "code",
   "execution_count": 11,
   "metadata": {},
   "outputs": [
    {
     "name": "stdout",
     "output_type": "stream",
     "text": [
      "Foo is bigger than 0\n"
     ]
    }
   ],
   "source": [
    "foo = 42\n",
    "\n",
    "if foo > 0:\n",
    "    print('Foo is bigger than 0')\n",
    "else:\n",
    "    print('Foo is less or equal 0')"
   ]
  },
  {
   "cell_type": "code",
   "execution_count": 12,
   "metadata": {
    "slideshow": {
     "slide_type": "subslide"
    }
   },
   "outputs": [
    {
     "name": "stdout",
     "output_type": "stream",
     "text": [
      "Foo is bigger than 0\n",
      "Foo is bigger than 30\n"
     ]
    }
   ],
   "source": [
    "# multiple if statements\n",
    "foo = 42\n",
    "\n",
    "if foo > 0:\n",
    "    print('Foo is bigger than 0')\n",
    "if foo > 30:\n",
    "    print('Foo is bigger than 30')\n",
    "else:\n",
    "    print('Foo is less or equal 0')"
   ]
  },
  {
   "cell_type": "code",
   "execution_count": 13,
   "metadata": {
    "slideshow": {
     "slide_type": "subslide"
    }
   },
   "outputs": [
    {
     "name": "stdout",
     "output_type": "stream",
     "text": [
      "Foo is bigger than 0\n"
     ]
    }
   ],
   "source": [
    "# elif matcht nur eine condition\n",
    "foo = 42\n",
    "\n",
    "if foo > 0:\n",
    "    print('Foo is bigger than 0')\n",
    "elif foo > 30:\n",
    "    print('Foo is bigger than 30')\n",
    "else:\n",
    "    print('Foo is less or equal 0')"
   ]
  },
  {
   "cell_type": "code",
   "execution_count": 14,
   "metadata": {
    "slideshow": {
     "slide_type": "subslide"
    }
   },
   "outputs": [
    {
     "name": "stdout",
     "output_type": "stream",
     "text": [
      "We hit something\n"
     ]
    }
   ],
   "source": [
    "# multiple coniditions\n",
    "\n",
    "foo = False\n",
    "bar = 42\n",
    "\n",
    "if foo is False and bar > 40:\n",
    "    print('We hit something')"
   ]
  },
  {
   "cell_type": "markdown",
   "metadata": {
    "slideshow": {
     "slide_type": "subslide"
    }
   },
   "source": [
    "**Aufgabe**\n",
    "\n",
    "* Schreibe ein Programm was nach einer Zahl fragt und anzeigt ob diese Zahl größer als 100 ist oder nicht."
   ]
  },
  {
   "cell_type": "markdown",
   "metadata": {
    "slideshow": {
     "slide_type": "slide"
    }
   },
   "source": [
    "### `while`\n",
    "\n",
    "`while` führt eine Einrückung so lange aus bis wir mittels `break` die Einrückung verlassen oder das Programm abstürzt."
   ]
  },
  {
   "cell_type": "code",
   "execution_count": 15,
   "metadata": {},
   "outputs": [
    {
     "name": "stdout",
     "output_type": "stream",
     "text": [
      "Hello! :)\n"
     ]
    }
   ],
   "source": [
    "while True:\n",
    "    print('Hello! :)')\n",
    "    break"
   ]
  },
  {
   "cell_type": "code",
   "execution_count": 16,
   "metadata": {
    "slideshow": {
     "slide_type": "subslide"
    }
   },
   "outputs": [
    {
     "name": "stdout",
     "output_type": "stream",
     "text": [
      "10 Erreicht :)\n"
     ]
    }
   ],
   "source": [
    "i = 0\n",
    "\n",
    "while True:\n",
    "    if i > 10:\n",
    "        print('10 Erreicht :)')\n",
    "        break\n",
    "    i += 1"
   ]
  },
  {
   "cell_type": "code",
   "execution_count": 17,
   "metadata": {
    "slideshow": {
     "slide_type": "subslide"
    }
   },
   "outputs": [
    {
     "name": "stdout",
     "output_type": "stream",
     "text": [
      "10\n"
     ]
    }
   ],
   "source": [
    "i = 0\n",
    "\n",
    "while i<10:\n",
    "    i += 1\n",
    "\n",
    "print(i)"
   ]
  },
  {
   "cell_type": "markdown",
   "metadata": {
    "slideshow": {
     "slide_type": "subslide"
    }
   },
   "source": [
    "**Aufgabe**\n",
    "\n",
    "* Schreib ein Programm welches den User eine zufällige Zahl erraten lässt indem das Programm den Computer nach einer eingegebenen Zahl sagt ob\n",
    "    * die Zahl zu niedrig ist\n",
    "    * die Zahl zu hoch ist\n",
    "    * die Zahl korrekt ist\n",
    "\n",
    "Beispiel:\n",
    "\n",
    "```\n",
    "# zufällige zahl = 42\n",
    "guessed number = 20 => print(\"too low\")\n",
    "guessed number = 50 => print(\"too high\")\n",
    "guessed number = 42 => print(\"you won!\")\n",
    "```\n",
    "\n",
    "\n",
    "Hinweis:\n",
    "```python\n",
    "import random\n",
    "random.randint(0, 100)  # erzeugt eine pseudo zufällige Zahl zwischen 0 und 100\n",
    "```"
   ]
  },
  {
   "cell_type": "markdown",
   "metadata": {
    "slideshow": {
     "slide_type": "slide"
    }
   },
   "source": [
    "## `for`\n",
    "\n",
    "Das `for` statement führt Code-Zeilen für jedes Element einer Liste aus, wobei wir das einzelne Element in dieser Liste mit einer neuen Variable versehen."
   ]
  },
  {
   "cell_type": "code",
   "execution_count": 18,
   "metadata": {},
   "outputs": [
    {
     "name": "stdout",
     "output_type": "stream",
     "text": [
      "1\n",
      "2\n",
      "3\n"
     ]
    }
   ],
   "source": [
    "foo = [1, 2, 3]\n",
    "\n",
    "for i in foo:\n",
    "    print(i)"
   ]
  },
  {
   "cell_type": "code",
   "execution_count": 19,
   "metadata": {
    "slideshow": {
     "slide_type": "subslide"
    }
   },
   "outputs": [
    {
     "name": "stdout",
     "output_type": "stream",
     "text": [
      "0 * 1 = 0\n",
      "0 * 2 = 0\n",
      "1 * 1 = 1\n",
      "1 * 2 = 2\n",
      "2 * 1 = 2\n",
      "2 * 2 = 4\n"
     ]
    }
   ],
   "source": [
    "# schachtelung von for schleifen\n",
    "for i in range(0, 3):\n",
    "    for j in range(1, 3):\n",
    "        print(f'{i} * {j} = {i*j}')"
   ]
  },
  {
   "cell_type": "markdown",
   "metadata": {
    "slideshow": {
     "slide_type": "subslide"
    }
   },
   "source": [
    "**Aufgabe**\n",
    "\n",
    "* Berechne alle Primzahlen zwischen 0 und 100\n",
    "\n",
    "Hinweis 1: Der Modolu Operator `%` berechnet den Rest der bei einer Operationen zwischen zwei ganzen Zahlen entsteht.\n",
    "\n",
    "```python\n",
    "2 % 5 = 2  # 0 * 5 + 2\n",
    "8 % 5 = 3  # 1 * 5 + 3\n",
    "42 % 13 = 3  # 13 * 3 + 3\n",
    "```\n",
    "\n",
    "Hinweis 2: Eine Primzahl ist eine natürliche Zahl, die größer als 1 und ausschließlich durch sich selbst und durch 1 teilbar ist.\n",
    "\n",
    "Hinweis 3:\n",
    "\n",
    "```python\n",
    "range(0, 100) = [0, 1, 2, ..., 99]\n",
    "```"
   ]
  },
  {
   "cell_type": "markdown",
   "metadata": {
    "slideshow": {
     "slide_type": "slide"
    }
   },
   "source": [
    "## Funktionen\n",
    "\n",
    "Um wiederkehrende Operationen nicht immer neu schreiben zu müssen abstrahiert man diese in *Funktionen*.\n",
    "\n",
    "Diese Funktionen können zusätzlich Arguemnte annehmen und können mithilfe von `return` auch Datenwerte zurückgeben die man wiederum in einer Variable speichern kann."
   ]
  },
  {
   "cell_type": "code",
   "execution_count": 20,
   "metadata": {},
   "outputs": [
    {
     "name": "stdout",
     "output_type": "stream",
     "text": [
      "Hello\n"
     ]
    }
   ],
   "source": [
    "def say_hello():\n",
    "    print('Hello')\n",
    "\n",
    "say_hello()"
   ]
  },
  {
   "cell_type": "code",
   "execution_count": 21,
   "metadata": {
    "slideshow": {
     "slide_type": "subslide"
    }
   },
   "outputs": [
    {
     "name": "stdout",
     "output_type": "stream",
     "text": [
      "Hello\n"
     ]
    }
   ],
   "source": [
    "def give_hello():\n",
    "    return \"Hello\"\n",
    "\n",
    "foo = give_hello()\n",
    "print(foo)"
   ]
  },
  {
   "cell_type": "code",
   "execution_count": 22,
   "metadata": {
    "slideshow": {
     "slide_type": "subslide"
    }
   },
   "outputs": [
    {
     "name": "stdout",
     "output_type": "stream",
     "text": [
      "Hello Clara\n"
     ]
    }
   ],
   "source": [
    "def say_my_name(name):\n",
    "    return \"Hello \" + name\n",
    "\n",
    "print(say_my_name('Clara'))"
   ]
  },
  {
   "cell_type": "code",
   "execution_count": 23,
   "metadata": {
    "slideshow": {
     "slide_type": "subslide"
    }
   },
   "outputs": [
    {
     "name": "stdout",
     "output_type": "stream",
     "text": [
      "Hello ClaraHello ClaraHello ClaraHello ClaraHello Clara\n"
     ]
    }
   ],
   "source": [
    "def say_my_name_n_times(name, n_times):\n",
    "    return say_my_name(name) * n_times\n",
    "\n",
    "print(say_my_name_n_times('Clara', 5))"
   ]
  },
  {
   "cell_type": "code",
   "execution_count": 24,
   "metadata": {
    "slideshow": {
     "slide_type": "subslide"
    }
   },
   "outputs": [
    {
     "data": {
      "text/plain": [
       "'Hello ClaraHello Clara'"
      ]
     },
     "execution_count": 24,
     "metadata": {},
     "output_type": "execute_result"
    }
   ],
   "source": [
    "# kwargs and args as defaults\n",
    "def say_my_name_n_times(name, n_times=2):\n",
    "    return say_my_name(name) * n_times\n",
    "\n",
    "say_my_name_n_times('Clara')"
   ]
  },
  {
   "cell_type": "markdown",
   "metadata": {
    "slideshow": {
     "slide_type": "subslide"
    }
   },
   "source": [
    "**Aufgabe**\n",
    "\n",
    "* Schreibe eine Funktion die einen Boolean Wert zurückliefert ob eine Zahl eine Primzahl ist oder nicht."
   ]
  },
  {
   "cell_type": "markdown",
   "metadata": {
    "slideshow": {
     "slide_type": "slide"
    }
   },
   "source": [
    "## Scope\n",
    "\n",
    "Der *Scope* einer Funktion gibt an ob wir Zugriff auf eine Variable haben oder nicht.\n",
    "\n",
    "In Python hat man in der Regel nur Zugriff auf die Variablen aus der kleineren Einrückung und die über der Zeile stehen."
   ]
  },
  {
   "cell_type": "code",
   "execution_count": 25,
   "metadata": {
    "slideshow": {
     "slide_type": "subslide"
    }
   },
   "outputs": [],
   "source": [
    "foo = 42\n",
    "\n",
    "if bar is True:\n",
    "    print(foo)\n",
    "\n",
    "bar = True"
   ]
  },
  {
   "cell_type": "code",
   "execution_count": 26,
   "metadata": {
    "slideshow": {
     "slide_type": "subslide"
    }
   },
   "outputs": [
    {
     "name": "stdout",
     "output_type": "stream",
     "text": [
      "Hello\n"
     ]
    }
   ],
   "source": [
    "foo = 'Hello'\n",
    "\n",
    "def my_func():\n",
    "    print(foo)\n",
    "\n",
    "my_func()"
   ]
  },
  {
   "cell_type": "code",
   "execution_count": 27,
   "metadata": {
    "slideshow": {
     "slide_type": "subslide"
    }
   },
   "outputs": [
    {
     "ename": "NameError",
     "evalue": "name 'foo' is not defined",
     "output_type": "error",
     "traceback": [
      "\u001b[0;31m---------------------------------------------------------------------------\u001b[0m",
      "\u001b[0;31mNameError\u001b[0m                                 Traceback (most recent call last)",
      "\u001b[0;32m<ipython-input-27-31504fd18de0>\u001b[0m in \u001b[0;36m<module>\u001b[0;34m\u001b[0m\n\u001b[1;32m      6\u001b[0m     \u001b[0;32mreturn\u001b[0m \u001b[0mbar\u001b[0m\u001b[0;34m\u001b[0m\u001b[0;34m\u001b[0m\u001b[0m\n\u001b[1;32m      7\u001b[0m \u001b[0;34m\u001b[0m\u001b[0m\n\u001b[0;32m----> 8\u001b[0;31m \u001b[0mprint\u001b[0m\u001b[0;34m(\u001b[0m\u001b[0mfoo\u001b[0m\u001b[0;34m)\u001b[0m\u001b[0;34m\u001b[0m\u001b[0;34m\u001b[0m\u001b[0m\n\u001b[0m",
      "\u001b[0;31mNameError\u001b[0m: name 'foo' is not defined"
     ]
    }
   ],
   "source": [
    "del foo\n",
    "\n",
    "def my_func():\n",
    "    foo = 42\n",
    "    bar = 2\n",
    "    return bar\n",
    "\n",
    "print(foo)"
   ]
  },
  {
   "cell_type": "markdown",
   "metadata": {
    "slideshow": {
     "slide_type": "slide"
    }
   },
   "source": [
    "## `import`\n",
    "\n",
    "Ein großer Vorteil von Python ist, dass die Programmiersprache eine große Standardbibliothek hat.\n",
    "Die Standardbibliothek ist bei jeder Python Installation verfügbar und die einzelnen *Module* müssen importiert werden."
   ]
  },
  {
   "cell_type": "markdown",
   "metadata": {
    "slideshow": {
     "slide_type": "subslide"
    }
   },
   "source": [
    "Ein Beispiel kennen wir dabei schon."
   ]
  },
  {
   "cell_type": "code",
   "execution_count": 28,
   "metadata": {},
   "outputs": [
    {
     "name": "stdout",
     "output_type": "stream",
     "text": [
      "99\n"
     ]
    }
   ],
   "source": [
    "import random\n",
    "\n",
    "print(random.randint(0, 100))"
   ]
  },
  {
   "cell_type": "markdown",
   "metadata": {
    "slideshow": {
     "slide_type": "subslide"
    }
   },
   "source": [
    "Das `random` Module der Standardbibliothek ist z.B. dokumentiert unter [https://docs.python.org/3/library/random.html](https://docs.python.org/3/library/random.html).\n",
    "\n",
    "Alternativ kann man sich mit in Jupyter den *docstring* anzeigen lassen indem man ein ? dem Ausdruck voranstellt."
   ]
  },
  {
   "cell_type": "code",
   "execution_count": 29,
   "metadata": {},
   "outputs": [
    {
     "data": {
      "text/plain": [
       "\u001b[0;31mSignature:\u001b[0m \u001b[0mrandom\u001b[0m\u001b[0;34m.\u001b[0m\u001b[0mrandint\u001b[0m\u001b[0;34m(\u001b[0m\u001b[0ma\u001b[0m\u001b[0;34m,\u001b[0m \u001b[0mb\u001b[0m\u001b[0;34m)\u001b[0m\u001b[0;34m\u001b[0m\u001b[0;34m\u001b[0m\u001b[0m\n",
       "\u001b[0;31mDocstring:\u001b[0m\n",
       "Return random integer in range [a, b], including both end points.\n",
       "        \n",
       "\u001b[0;31mFile:\u001b[0m      /usr/local/Cellar/python/3.7.6_1/Frameworks/Python.framework/Versions/3.7/lib/python3.7/random.py\n",
       "\u001b[0;31mType:\u001b[0m      method\n"
      ]
     },
     "metadata": {},
     "output_type": "display_data"
    }
   ],
   "source": [
    "?random.randint"
   ]
  },
  {
   "cell_type": "markdown",
   "metadata": {
    "slideshow": {
     "slide_type": "subslide"
    }
   },
   "source": [
    "Ein paar sehr hilfreiche Module aus der [Standardbibliothek](https://docs.python.org/3/library/index.html)\n",
    "\n",
    "Modul | Funktion\n",
    "--- | ---\n",
    "[`re`](https://docs.python.org/3/library/re.html) | regex (pattern matching auf strings)\n",
    "[`datetime`](https://docs.python.org/3/library/datetime.html) | rechnen mit datum\n",
    "[`random`](https://docs.python.org/3/library/random.html) | Pseudozufallszahlen\n",
    "[`os`](https://docs.python.org/3/library/os.html) | Dateisystemzugriff\n",
    "[`shutil`](https://docs.python.org/3/library/shutil.html) | Dateioperationen\n",
    "[`sqlite3`](https://docs.python.org/3/library/sqlite3.html) | SQlite3 Datenbank\n",
    "[`time`](https://docs.python.org/3/library/time.html) | Zeitoperationen\n",
    "[`logging`](https://docs.python.org/3/library/logging.html) | Logging\n",
    "[`email`](https://docs.python.org/3/library/email.html) | E-Mails erstellen\n",
    "[`json`](https://docs.python.org/3/library/json.html) | JSON En-/Decoder\n",
    "[`xml.etree.ElementTree`](https://docs.python.org/3/library/xml.etree.elementtree.html) | XML Operationen\n",
    "[`unittest`](https://docs.python.org/3/library/unittest.html) | Unittesting"
   ]
  },
  {
   "cell_type": "markdown",
   "metadata": {
    "slideshow": {
     "slide_type": "slide"
    }
   },
   "source": [
    "## Dateizugriffe\n",
    "\n",
    "Eine Datei kann man öffnen, lesen, schreiben und schließen.\n",
    "Dabei unterscheidet man zwischen Textdaten (z.B. Quellcode, markdown) und Binärdaten (z.B. Bilder).\n",
    "\n",
    "Dateizugriffe sind immer sehr kritische Operationen da wir nicht wissen ob\n",
    "\n",
    "* die Datei existiert\n",
    "* wir Zugriff auf die Datei haben\n",
    "* wir die Datei schreiben können\n",
    "\n",
    "Daher immer aufmerksam sein da man schnell auch Dateien kaputt machen oder überschreiben kann!"
   ]
  },
  {
   "cell_type": "code",
   "execution_count": 30,
   "metadata": {
    "slideshow": {
     "slide_type": "subslide"
    }
   },
   "outputs": [
    {
     "name": "stdout",
     "output_type": "stream",
     "text": [
      "# Einführung in die Programmierung mit Python\n",
      "\n",
      "Eine Einführung in die Grundlagen der Programmierung \n"
     ]
    }
   ],
   "source": [
    "data = None\n",
    "with open('README.md', 'r') as f:\n",
    "    data = f.read()\n",
    "\n",
    "print(data[0:100])"
   ]
  },
  {
   "cell_type": "markdown",
   "metadata": {
    "slideshow": {
     "slide_type": "subslide"
    }
   },
   "source": [
    "mode | Funktion\n",
    "--- | ---\n",
    "`r` | Liest Text Datei\n",
    "`rb` | Liest Binär Datei\n",
    "`w` | Schreibt Text Datei\n",
    "`wb` | Schreibt Binär Datei"
   ]
  },
  {
   "cell_type": "code",
   "execution_count": 31,
   "metadata": {
    "slideshow": {
     "slide_type": "subslide"
    }
   },
   "outputs": [],
   "source": [
    "my_text = \"\"\"\n",
    "It can happen to you\n",
    "It can happen to me\n",
    "\"\"\"\n",
    "\n",
    "with open('my_text.txt', 'w') as f:\n",
    "    f.write(my_text)"
   ]
  },
  {
   "cell_type": "markdown",
   "metadata": {
    "slideshow": {
     "slide_type": "slide"
    }
   },
   "source": [
    "## PEP8\n",
    "\n",
    "Wenn mehrere Leute an einem Projekt arbeiten ist es sinnvoll sich an sogennante *Style Guidelines* zu halten, die die Formatierung wie Namen von Variablen, Funktionen oder Art der Einrückungen vereinheitlichen.\n",
    "\n",
    "Bei Python nennt sich dieser Standard *pep8* und ist hier sepzifiziert:\n",
    "https://www.python.org/dev/peps/pep-0008/\n",
    "\n",
    "Art | Konvention | Beispiel\n",
    "--- | --- | ---\n",
    "Variablen | alles klein, wobei Leerzeichen durch `_` ersetzt werden | `my_variable`\n",
    "konstante Variablen | alles groß geschrieben ' \n",
    "Funktionen | alles klein, wobei Leerzeichen durch `_` ersetzt werden | `my_function`\n",
    "Klassen | CamelCase | `MyClass`"
   ]
  },
  {
   "cell_type": "markdown",
   "metadata": {
    "slideshow": {
     "slide_type": "slide"
    }
   },
   "source": [
    "## git\n",
    "\n",
    "*git* ist ein *Versions Kontroll System (VCS - Version Control System)* womit mehrere Leute an einem Textprojekt arbeiten können.\n",
    "Jede Veränderung ist ein inkrement und "
   ]
  }
 ],
 "metadata": {
  "kernelspec": {
   "display_name": "Python 3",
   "language": "python",
   "name": "python3"
  },
  "language_info": {
   "codemirror_mode": {
    "name": "ipython",
    "version": 3
   },
   "file_extension": ".py",
   "mimetype": "text/x-python",
   "name": "python",
   "nbconvert_exporter": "python",
   "pygments_lexer": "ipython3",
   "version": "3.7.6"
  }
 },
 "nbformat": 4,
 "nbformat_minor": 4
}
