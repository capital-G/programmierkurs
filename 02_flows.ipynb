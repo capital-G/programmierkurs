{
 "cells": [
  {
   "cell_type": "markdown",
   "metadata": {
    "slideshow": {
     "slide_type": "slide"
    }
   },
   "source": [
    "# Progammierkurs Python\n",
    "\n",
    "## Sitzung 2 - Flows"
   ]
  },
  {
   "cell_type": "markdown",
   "metadata": {
    "slideshow": {
     "slide_type": "slide"
    }
   },
   "source": [
    "## Dictionaries / Hash Maps\n",
    "\n",
    "Dictionaries speichern zu einem *Key* einen *Value*.\n",
    "Die *Values* können dabei beliebig sein - *Keys* müssen unveränderbar (immutable) sein."
   ]
  },
  {
   "cell_type": "code",
   "execution_count": 1,
   "metadata": {
    "slideshow": {
     "slide_type": "subslide"
    }
   },
   "outputs": [
    {
     "name": "stdout",
     "output_type": "stream",
     "text": [
      "{0: 'a', 1: 'b', 2: 'c', 3: 'd'}\n"
     ]
    }
   ],
   "source": [
    "foo = {\n",
    "    0: 'a',\n",
    "    1: 'b',\n",
    "    2: 'c',\n",
    "    3: 'd',\n",
    "}\n",
    "print(foo)"
   ]
  },
  {
   "cell_type": "code",
   "execution_count": 2,
   "metadata": {},
   "outputs": [
    {
     "name": "stdout",
     "output_type": "stream",
     "text": [
      "a\n"
     ]
    }
   ],
   "source": [
    "# zugriff auf ein *value* mithilfe eines *keys* in einem dictionary,\n",
    "print(foo[0])"
   ]
  },
  {
   "cell_type": "code",
   "execution_count": 3,
   "metadata": {},
   "outputs": [
    {
     "name": "stdout",
     "output_type": "stream",
     "text": [
      "20\n"
     ]
    }
   ],
   "source": [
    "# hinzufügen von einem key/value pair zu einem vorhandenem dictionary\n",
    "foo['zwanzig'] = 20\n",
    "print(foo['zwanzig'])"
   ]
  },
  {
   "cell_type": "code",
   "execution_count": 4,
   "metadata": {
    "slideshow": {
     "slide_type": "subslide"
    }
   },
   "outputs": [
    {
     "ename": "KeyError",
     "evalue": "'i do not exist'",
     "output_type": "error",
     "traceback": [
      "\u001b[0;31m---------------------------------------------------------------------------\u001b[0m",
      "\u001b[0;31mKeyError\u001b[0m                                  Traceback (most recent call last)",
      "\u001b[0;32m<ipython-input-4-a075d8932f32>\u001b[0m in \u001b[0;36m<module>\u001b[0;34m\u001b[0m\n\u001b[1;32m      1\u001b[0m \u001b[0;31m# zugriff auf nicht existierenden key\u001b[0m\u001b[0;34m\u001b[0m\u001b[0;34m\u001b[0m\u001b[0;34m\u001b[0m\u001b[0m\n\u001b[0;32m----> 2\u001b[0;31m \u001b[0mfoo\u001b[0m\u001b[0;34m[\u001b[0m\u001b[0;34m'i do not exist'\u001b[0m\u001b[0;34m]\u001b[0m\u001b[0;34m\u001b[0m\u001b[0;34m\u001b[0m\u001b[0m\n\u001b[0m",
      "\u001b[0;31mKeyError\u001b[0m: 'i do not exist'"
     ]
    }
   ],
   "source": [
    "# zugriff auf nicht existierenden key\n",
    "foo['i do not exist']"
   ]
  },
  {
   "cell_type": "markdown",
   "metadata": {
    "slideshow": {
     "slide_type": "subslide"
    }
   },
   "source": [
    "**Aufgabe**\n",
    "\n",
    "* Schreibt ein Programm welches beim Input einer Zahl zwischen 0 und 10 die Zahl ausschreibt"
   ]
  },
  {
   "cell_type": "markdown",
   "metadata": {
    "slideshow": {
     "slide_type": "slide"
    }
   },
   "source": [
    "## Exceptions\n",
    "\n",
    "*Exceptions* sind (un)erwartete Fehler die sich durch äußere Abähngigkeiten ergeben können.\n",
    "\n",
    "Wenn das Programm auf eine Exception stößt stürzt das Programm ab - wir können allerdings eine Exception *auffangen* und sagen was passieren soll falls wir auf eine Exception stoßen."
   ]
  },
  {
   "cell_type": "code",
   "execution_count": 5,
   "metadata": {},
   "outputs": [
    {
     "ename": "ZeroDivisionError",
     "evalue": "division by zero",
     "output_type": "error",
     "traceback": [
      "\u001b[0;31m---------------------------------------------------------------------------\u001b[0m",
      "\u001b[0;31mZeroDivisionError\u001b[0m                         Traceback (most recent call last)",
      "\u001b[0;32m<ipython-input-5-892840ca7299>\u001b[0m in \u001b[0;36m<module>\u001b[0;34m\u001b[0m\n\u001b[0;32m----> 1\u001b[0;31m \u001b[0;36m42\u001b[0m\u001b[0;34m/\u001b[0m\u001b[0;36m0\u001b[0m\u001b[0;34m\u001b[0m\u001b[0;34m\u001b[0m\u001b[0m\n\u001b[0m",
      "\u001b[0;31mZeroDivisionError\u001b[0m: division by zero"
     ]
    }
   ],
   "source": [
    "42/0"
   ]
  },
  {
   "cell_type": "code",
   "execution_count": 6,
   "metadata": {
    "slideshow": {
     "slide_type": "subslide"
    }
   },
   "outputs": [
    {
     "name": "stdout",
     "output_type": "stream",
     "text": [
      "You can not divide through 0\n"
     ]
    }
   ],
   "source": [
    "try:\n",
    "    42/0\n",
    "except:\n",
    "    print('You can not divide through 0')"
   ]
  },
  {
   "cell_type": "code",
   "execution_count": 7,
   "metadata": {
    "slideshow": {
     "slide_type": "subslide"
    }
   },
   "outputs": [
    {
     "name": "stdout",
     "output_type": "stream",
     "text": [
      "\"b\" ist nicht im dictionary\n"
     ]
    }
   ],
   "source": [
    "foo = {\n",
    "    'a': 1\n",
    "}\n",
    "\n",
    "try:\n",
    "    print(foo['b'])\n",
    "except KeyError:\n",
    "    # we can specify the exception we want to catch\n",
    "    print('\"b\" ist nicht im dictionary')"
   ]
  },
  {
   "cell_type": "code",
   "execution_count": 8,
   "metadata": {
    "slideshow": {
     "slide_type": "subslide"
    }
   },
   "outputs": [
    {
     "ename": "ZeroDivisionError",
     "evalue": "division by zero",
     "output_type": "error",
     "traceback": [
      "\u001b[0;31m---------------------------------------------------------------------------\u001b[0m",
      "\u001b[0;31mZeroDivisionError\u001b[0m                         Traceback (most recent call last)",
      "\u001b[0;32m<ipython-input-8-e403abe34edb>\u001b[0m in \u001b[0;36m<module>\u001b[0;34m\u001b[0m\n\u001b[1;32m      1\u001b[0m \u001b[0;32mtry\u001b[0m\u001b[0;34m:\u001b[0m\u001b[0;34m\u001b[0m\u001b[0;34m\u001b[0m\u001b[0m\n\u001b[0;32m----> 2\u001b[0;31m     \u001b[0;36m42\u001b[0m\u001b[0;34m/\u001b[0m\u001b[0;36m0\u001b[0m\u001b[0;34m\u001b[0m\u001b[0;34m\u001b[0m\u001b[0m\n\u001b[0m\u001b[1;32m      3\u001b[0m \u001b[0;32mexcept\u001b[0m \u001b[0mKeyError\u001b[0m\u001b[0;34m:\u001b[0m\u001b[0;34m\u001b[0m\u001b[0;34m\u001b[0m\u001b[0m\n\u001b[1;32m      4\u001b[0m     \u001b[0mprint\u001b[0m\u001b[0;34m(\u001b[0m\u001b[0;34m'e'\u001b[0m\u001b[0;34m)\u001b[0m\u001b[0;34m\u001b[0m\u001b[0;34m\u001b[0m\u001b[0m\n",
      "\u001b[0;31mZeroDivisionError\u001b[0m: division by zero"
     ]
    }
   ],
   "source": [
    "try:\n",
    "    42/0\n",
    "except KeyError:\n",
    "    print('e')"
   ]
  },
  {
   "cell_type": "code",
   "execution_count": 9,
   "metadata": {
    "slideshow": {
     "slide_type": "subslide"
    }
   },
   "outputs": [
    {
     "name": "stdout",
     "output_type": "stream",
     "text": [
      "Teile nicht durch 0! division by zero\n"
     ]
    }
   ],
   "source": [
    "try:\n",
    "    42/0\n",
    "except KeyError as e:\n",
    "    print('KeyError')\n",
    "except ZeroDivisionError as e:\n",
    "    print(f'Teile nicht durch 0! {e}')"
   ]
  },
  {
   "cell_type": "markdown",
   "metadata": {
    "slideshow": {
     "slide_type": "slide"
    }
   },
   "source": [
    "## `None`\n",
    "\n",
    "`None` ist ein sehr spezieller Typ der darauf hinweist das etwas nicht gesetzt worden ist.\n",
    "Wenn wir eine Variable initialisieren aber wir erst an einem späteren Zeitpunkt wissen welchen Wert die Variable hat ist `None` ein gutes Hilfsmittel.\n",
    "\n",
    "Gerade bei Boolean Werten oder Strings ist `None` sehr hilfreich.\n",
    "\n",
    "* Hat der User tatsächlich einen leeren String eingegeben oder haben wir nur vergessen den User zu Fragen nach seiner Eingabe?\n",
    "* Wurde der Boolean Wert tatsächlich gesetzt oder handelt es sich um den Default Wert?"
   ]
  },
  {
   "cell_type": "code",
   "execution_count": 10,
   "metadata": {
    "slideshow": {
     "slide_type": "subslide"
    }
   },
   "outputs": [],
   "source": [
    "ergebnis = None\n",
    "# some calculations\n",
    "ergebnis = 42"
   ]
  },
  {
   "cell_type": "code",
   "execution_count": 11,
   "metadata": {
    "slideshow": {
     "slide_type": "subslide"
    }
   },
   "outputs": [
    {
     "name": "stdout",
     "output_type": "stream",
     "text": [
      "We could not calculate your equation :(\n"
     ]
    }
   ],
   "source": [
    "ergebnis = None\n",
    "\n",
    "try:\n",
    "    ergebnis = 42/0\n",
    "except ZeroDivisionError:\n",
    "    pass  # pass means \"do nothing\"\n",
    "\n",
    "if ergebnis is None:\n",
    "    print('We could not calculate your equation :(')\n",
    "else:\n",
    "    print(f'Your result is {ergebnis}')"
   ]
  },
  {
   "cell_type": "markdown",
   "metadata": {
    "slideshow": {
     "slide_type": "slide"
    }
   },
   "source": [
    "## Control Flows\n",
    "\n",
    "Mit *Control Flows* können wir den Fluss von unserem Programm steuern.\n",
    "\n",
    "Einrückungen in Python werden durch Leerzeichen oder Tabs gemacht - in anderen Programmiersprachen benutzt man dafür Klammern."
   ]
  },
  {
   "cell_type": "markdown",
   "metadata": {
    "slideshow": {
     "slide_type": "slide"
    }
   },
   "source": [
    "### `if`\n",
    "\n",
    "Das `if` statement bindet die Ausführung von Code-Zeilen an eine Kondition (*Condition*)."
   ]
  },
  {
   "cell_type": "code",
   "execution_count": 12,
   "metadata": {},
   "outputs": [
    {
     "name": "stdout",
     "output_type": "stream",
     "text": [
      "Foo is bigger than 0\n"
     ]
    }
   ],
   "source": [
    "foo = 42\n",
    "\n",
    "if foo > 0:\n",
    "    print('Foo is bigger than 0')\n",
    "else:\n",
    "    print('Foo is less or equal 0')"
   ]
  },
  {
   "cell_type": "code",
   "execution_count": 13,
   "metadata": {
    "slideshow": {
     "slide_type": "subslide"
    }
   },
   "outputs": [
    {
     "name": "stdout",
     "output_type": "stream",
     "text": [
      "Foo is bigger than 0\n",
      "Foo is bigger than 30\n"
     ]
    }
   ],
   "source": [
    "# multiple if statements\n",
    "foo = 42\n",
    "\n",
    "if foo > 0:\n",
    "    print('Foo is bigger than 0')\n",
    "if foo > 30:\n",
    "    print('Foo is bigger than 30')\n",
    "else:\n",
    "    print('Foo is equal or less than 30')"
   ]
  },
  {
   "cell_type": "code",
   "execution_count": 14,
   "metadata": {
    "slideshow": {
     "slide_type": "subslide"
    }
   },
   "outputs": [
    {
     "name": "stdout",
     "output_type": "stream",
     "text": [
      "Foo is bigger than 0\n"
     ]
    }
   ],
   "source": [
    "# elif matcht nur eine condition\n",
    "foo = 42\n",
    "\n",
    "if foo > 0:\n",
    "    print('Foo is bigger than 0')\n",
    "elif foo > 30:\n",
    "    print('Foo is bigger than 30')\n",
    "else:\n",
    "    print('Foo is less or equal 0')"
   ]
  },
  {
   "cell_type": "code",
   "execution_count": 15,
   "metadata": {
    "slideshow": {
     "slide_type": "subslide"
    }
   },
   "outputs": [
    {
     "name": "stdout",
     "output_type": "stream",
     "text": [
      "We hit something\n"
     ]
    }
   ],
   "source": [
    "# multiple coniditions\n",
    "\n",
    "foo = False\n",
    "bar = 42\n",
    "\n",
    "if foo is False and bar > 40:\n",
    "    print('We hit something')"
   ]
  },
  {
   "cell_type": "markdown",
   "metadata": {
    "slideshow": {
     "slide_type": "subslide"
    }
   },
   "source": [
    "**Aufgabe**\n",
    "\n",
    "* Schreibe ein Programm was nach einer Zahl fragt und anzeigt ob diese Zahl größer als 100 ist oder nicht."
   ]
  },
  {
   "cell_type": "markdown",
   "metadata": {
    "slideshow": {
     "slide_type": "slide"
    }
   },
   "source": [
    "### `while`\n",
    "\n",
    "`while` führt eine Einrückung so lange aus bis wir mittels `break` die Einrückung verlassen oder das Programm abstürzt."
   ]
  },
  {
   "cell_type": "code",
   "execution_count": 16,
   "metadata": {},
   "outputs": [
    {
     "name": "stdout",
     "output_type": "stream",
     "text": [
      "Hello! :)\n"
     ]
    }
   ],
   "source": [
    "while True:\n",
    "    print('Hello! :)')\n",
    "    break"
   ]
  },
  {
   "cell_type": "code",
   "execution_count": 17,
   "metadata": {
    "slideshow": {
     "slide_type": "subslide"
    }
   },
   "outputs": [
    {
     "name": "stdout",
     "output_type": "stream",
     "text": [
      "10 Erreicht :)\n"
     ]
    }
   ],
   "source": [
    "i = 0\n",
    "\n",
    "while True:\n",
    "    if i >= 10:\n",
    "        print('10 Erreicht :)')\n",
    "        break\n",
    "    i += 1"
   ]
  },
  {
   "cell_type": "code",
   "execution_count": 18,
   "metadata": {
    "slideshow": {
     "slide_type": "subslide"
    }
   },
   "outputs": [
    {
     "name": "stdout",
     "output_type": "stream",
     "text": [
      "10\n"
     ]
    }
   ],
   "source": [
    "i = 0\n",
    "\n",
    "while i<10:\n",
    "    i += 1\n",
    "\n",
    "print(i)"
   ]
  },
  {
   "cell_type": "markdown",
   "metadata": {
    "slideshow": {
     "slide_type": "subslide"
    }
   },
   "source": [
    "**Aufgabe**\n",
    "\n",
    "* Schreib ein Programm welches den User eine zufällige Zahl erraten lässt indem das Programm den Computer nach einer eingegebenen Zahl sagt ob\n",
    "    * die Zahl zu niedrig ist\n",
    "    * die Zahl zu hoch ist\n",
    "    * die Zahl korrekt ist\n",
    "\n",
    "Beispiel:\n",
    "\n",
    "```\n",
    "# zufällige zahl = 42\n",
    "guessed number = 20 => print(\"too low\")\n",
    "guessed number = 50 => print(\"too high\")\n",
    "guessed number = 42 => print(\"you won!\")\n",
    "```\n",
    "\n",
    "\n",
    "Hinweis:\n",
    "```python\n",
    "import random\n",
    "random.randint(0, 100)  # erzeugt eine pseudo zufällige Zahl zwischen 0 und 100\n",
    "```"
   ]
  }
 ],
 "metadata": {
  "kernelspec": {
   "display_name": "Python 3",
   "language": "python",
   "name": "python3"
  },
  "language_info": {
   "codemirror_mode": {
    "name": "ipython",
    "version": 3
   },
   "file_extension": ".py",
   "mimetype": "text/x-python",
   "name": "python",
   "nbconvert_exporter": "python",
   "pygments_lexer": "ipython3",
   "version": "3.7.6"
  }
 },
 "nbformat": 4,
 "nbformat_minor": 4
}
