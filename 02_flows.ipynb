{
 "cells": [
  {
   "cell_type": "markdown",
   "metadata": {},
   "source": [
    "# Progammierkurs Python\n",
    "\n",
    "## Sitzung 2 - Flows"
   ]
  },
  {
   "cell_type": "markdown",
   "metadata": {
    "slideshow": {
     "slide_type": "slide"
    }
   },
   "source": [
    "Installiert euch zusätzlich noch Visual Studio Code."
   ]
  },
  {
   "cell_type": "markdown",
   "metadata": {
    "slideshow": {
     "slide_type": "slide"
    }
   },
   "source": [
    "## Script schreiben und ausführen\n",
    "\n",
    "Jupyter Notebook ist gut zum partiellen ausführen von Code-Blöcken - jedoch eignet es sich nicht gut als Script welches man eine bestimmte Anzahl von malen ausführen möchte.\n",
    "\n",
    "Dafür legt man in einem Editor seiner Wahl eine neue Datei mit der Endung `.py` an und schreibt dort den Code.\n",
    "\n",
    "Wenn man die Datei abgespeichert hat öffnet man eine Konsole und wechselt in das Verzeichnis der Datei und führt das Script mithilfe von\n",
    "\n",
    "```\n",
    "python3 my_script.py\n",
    "```\n",
    "\n",
    "aus."
   ]
  },
  {
   "cell_type": "markdown",
   "metadata": {
    "slideshow": {
     "slide_type": "slide"
    }
   },
   "source": [
    "## Dictionaries / Hash Maps\n",
    "\n",
    "Dictionaries speichern zu einem *Key* einen *Value* - diese können beliebige Typen sein."
   ]
  },
  {
   "cell_type": "code",
   "execution_count": 93,
   "metadata": {},
   "outputs": [
    {
     "name": "stdout",
     "output_type": "stream",
     "text": [
      "{0: 'a', 1: 'b', 2: 'c', 3: 'd'}\n",
      "c\n"
     ]
    }
   ],
   "source": [
    "foo = {\n",
    "    0: 'a',\n",
    "    1: 'b',\n",
    "    2: 'c',\n",
    "    3: 'd',\n",
    "}\n",
    "print(foo)\n",
    "print(foo[2])"
   ]
  },
  {
   "cell_type": "markdown",
   "metadata": {
    "slideshow": {
     "slide_type": "slide"
    }
   },
   "source": [
    "## Control Flows\n",
    "\n",
    "Mit *Control Flows* können wir den Fluss von unserem Programm steuern.\n",
    "\n",
    "Einrückungen in Python werden durch Leerzeichen oder Tabs gemacht - in anderen Programmiersprachen benutzt man dafür Klammern."
   ]
  },
  {
   "cell_type": "markdown",
   "metadata": {
    "slideshow": {
     "slide_type": "slide"
    }
   },
   "source": [
    "### `if`\n",
    "\n",
    "Das `if` statement bindet die Ausführung von Code-Zeilen an eine Kondition (*Condition*)."
   ]
  },
  {
   "cell_type": "code",
   "execution_count": 64,
   "metadata": {},
   "outputs": [
    {
     "name": "stdout",
     "output_type": "stream",
     "text": [
      "Foo is bigger than 0\n"
     ]
    }
   ],
   "source": [
    "foo = 42\n",
    "\n",
    "if foo > 0:\n",
    "    print('Foo is bigger than 0')\n",
    "else:\n",
    "    print('Foo is less or equal 0')"
   ]
  },
  {
   "cell_type": "code",
   "execution_count": 68,
   "metadata": {
    "slideshow": {
     "slide_type": "subslide"
    }
   },
   "outputs": [
    {
     "name": "stdout",
     "output_type": "stream",
     "text": [
      "Foo is bigger than 0\n",
      "Foo is bigger than 30\n"
     ]
    }
   ],
   "source": [
    "# multiple if statements\n",
    "foo = 42\n",
    "\n",
    "if foo > 0:\n",
    "    print('Foo is bigger than 0')\n",
    "if foo > 30:\n",
    "    print('Foo is bigger than 30')\n",
    "else:\n",
    "    print('Foo is less or equal 0')"
   ]
  },
  {
   "cell_type": "code",
   "execution_count": 84,
   "metadata": {
    "slideshow": {
     "slide_type": "subslide"
    }
   },
   "outputs": [
    {
     "name": "stdout",
     "output_type": "stream",
     "text": [
      "Foo is bigger than 0\n"
     ]
    }
   ],
   "source": [
    "# elif matcht nur eine condition\n",
    "foo = 42\n",
    "\n",
    "if foo > 0:\n",
    "    print('Foo is bigger than 0')\n",
    "elif foo > 30:\n",
    "    print('Foo is bigger than 30')\n",
    "else:\n",
    "    print('Foo is less or equal 0')"
   ]
  },
  {
   "cell_type": "code",
   "execution_count": 8,
   "metadata": {
    "slideshow": {
     "slide_type": "subslide"
    }
   },
   "outputs": [
    {
     "name": "stdout",
     "output_type": "stream",
     "text": [
      "We hit something\n"
     ]
    }
   ],
   "source": [
    "# multiple coniditions\n",
    "\n",
    "foo = False\n",
    "bar = 42\n",
    "\n",
    "if foo is False and bar > 40:\n",
    "    print('We hit something')"
   ]
  },
  {
   "cell_type": "markdown",
   "metadata": {
    "slideshow": {
     "slide_type": "slide"
    }
   },
   "source": [
    "## `for`\n",
    "\n",
    "Das `for` statement führt Code-Zeilen für jedes Element einer Liste aus, wobei wir das einzelne Element in dieser Liste mit einer neuen Variable versehen."
   ]
  },
  {
   "cell_type": "code",
   "execution_count": 76,
   "metadata": {},
   "outputs": [
    {
     "name": "stdout",
     "output_type": "stream",
     "text": [
      "1\n",
      "2\n",
      "3\n"
     ]
    }
   ],
   "source": [
    "foo = [1, 2, 3]\n",
    "\n",
    "for i in foo:\n",
    "    print(i)"
   ]
  },
  {
   "cell_type": "markdown",
   "metadata": {
    "slideshow": {
     "slide_type": "subslide"
    }
   },
   "source": [
    "**Aufgabe**\n",
    "\n",
    "* Erzeuge eine Liste von 0 bis 9 mithilfe von `range(10)` und zeige alle Zahlen an die größer als 5 sind."
   ]
  },
  {
   "cell_type": "markdown",
   "metadata": {
    "slideshow": {
     "slide_type": "slide"
    }
   },
   "source": [
    "## Funktionen\n",
    "\n",
    "Um wiederkehrende Operationen nicht immer neu schreiben zu müssen abstrahiert man diese in *Funktionen*.\n",
    "\n",
    "Diese können zusätzlich Arguemnte annehmen und können mithilfe von `return` auch Datenwerte zurückgeben die man wiederum in einer Variable speichern kann."
   ]
  },
  {
   "cell_type": "code",
   "execution_count": 86,
   "metadata": {},
   "outputs": [
    {
     "name": "stdout",
     "output_type": "stream",
     "text": [
      "Hello\n"
     ]
    }
   ],
   "source": [
    "def say_hello():\n",
    "    print('Hello')\n",
    "\n",
    "say_hello()"
   ]
  },
  {
   "cell_type": "code",
   "execution_count": 87,
   "metadata": {
    "slideshow": {
     "slide_type": "subslide"
    }
   },
   "outputs": [
    {
     "name": "stdout",
     "output_type": "stream",
     "text": [
      "Hello\n"
     ]
    }
   ],
   "source": [
    "def give_hello():\n",
    "    return \"Hello\"\n",
    "\n",
    "print(give_hello())"
   ]
  },
  {
   "cell_type": "code",
   "execution_count": 89,
   "metadata": {
    "slideshow": {
     "slide_type": "subslide"
    }
   },
   "outputs": [
    {
     "name": "stdout",
     "output_type": "stream",
     "text": [
      "Hello Clara\n"
     ]
    }
   ],
   "source": [
    "def say_my_name(name):\n",
    "    return \"Hello \" + name\n",
    "\n",
    "print(say_my_name('Clara'))"
   ]
  },
  {
   "cell_type": "code",
   "execution_count": 90,
   "metadata": {
    "slideshow": {
     "slide_type": "subslide"
    }
   },
   "outputs": [
    {
     "name": "stdout",
     "output_type": "stream",
     "text": [
      "Hello ClaraHello ClaraHello ClaraHello ClaraHello Clara\n"
     ]
    }
   ],
   "source": [
    "def say_my_name_n_times(name, n_times):\n",
    "    return say_my_name(name) * n_times\n",
    "\n",
    "print(say_my_name_n_times('Clara', 5))"
   ]
  },
  {
   "cell_type": "code",
   "execution_count": 94,
   "metadata": {
    "slideshow": {
     "slide_type": "subslide"
    }
   },
   "outputs": [
    {
     "data": {
      "text/plain": [
       "'Hello ClaraHello Clara'"
      ]
     },
     "execution_count": 94,
     "metadata": {},
     "output_type": "execute_result"
    }
   ],
   "source": [
    "# kwargs and args\n",
    "def say_my_name_n_times(name, n_times=2):\n",
    "    return say_my_name(name) * n_times\n",
    "\n",
    "say_my_name_n_times('Clara')"
   ]
  },
  {
   "cell_type": "markdown",
   "metadata": {
    "slideshow": {
     "slide_type": "slide"
    }
   },
   "source": [
    "## Scope\n",
    "\n",
    "Der *Scope* einer Funktion gibt an ob wir Zugriff auf eine Variable haben oder nicht.\n",
    "\n",
    "In Python hat man in der Regel nur Zugriff auf die Variablen aus der kleineren Einrückung und die über der Zeile stehen."
   ]
  },
  {
   "cell_type": "code",
   "execution_count": 2,
   "metadata": {
    "slideshow": {
     "slide_type": "subslide"
    }
   },
   "outputs": [
    {
     "ename": "NameError",
     "evalue": "name 'bar' is not defined",
     "output_type": "error",
     "traceback": [
      "\u001b[0;31m---------------------------------------------------------------------------\u001b[0m",
      "\u001b[0;31mNameError\u001b[0m                                 Traceback (most recent call last)",
      "\u001b[0;32m<ipython-input-2-efb0728ae784>\u001b[0m in \u001b[0;36m<module>\u001b[0;34m\u001b[0m\n\u001b[1;32m      1\u001b[0m \u001b[0mfoo\u001b[0m \u001b[0;34m=\u001b[0m \u001b[0;36m42\u001b[0m\u001b[0;34m\u001b[0m\u001b[0;34m\u001b[0m\u001b[0m\n\u001b[1;32m      2\u001b[0m \u001b[0;34m\u001b[0m\u001b[0m\n\u001b[0;32m----> 3\u001b[0;31m \u001b[0;32mif\u001b[0m \u001b[0mbar\u001b[0m \u001b[0;32mis\u001b[0m \u001b[0;32mTrue\u001b[0m\u001b[0;34m:\u001b[0m\u001b[0;34m\u001b[0m\u001b[0;34m\u001b[0m\u001b[0m\n\u001b[0m\u001b[1;32m      4\u001b[0m     \u001b[0mprint\u001b[0m\u001b[0;34m(\u001b[0m\u001b[0mfoo\u001b[0m\u001b[0;34m)\u001b[0m\u001b[0;34m\u001b[0m\u001b[0;34m\u001b[0m\u001b[0m\n\u001b[1;32m      5\u001b[0m \u001b[0;34m\u001b[0m\u001b[0m\n",
      "\u001b[0;31mNameError\u001b[0m: name 'bar' is not defined"
     ]
    }
   ],
   "source": [
    "foo = 42\n",
    "\n",
    "if bar is True:\n",
    "    print(foo)\n",
    "\n",
    "bar = True"
   ]
  },
  {
   "cell_type": "code",
   "execution_count": 3,
   "metadata": {
    "slideshow": {
     "slide_type": "subslide"
    }
   },
   "outputs": [
    {
     "name": "stdout",
     "output_type": "stream",
     "text": [
      "Hello\n"
     ]
    }
   ],
   "source": [
    "foo = 'Hello'\n",
    "\n",
    "def my_func():\n",
    "    print(foo)\n",
    "\n",
    "my_func()"
   ]
  },
  {
   "cell_type": "code",
   "execution_count": 5,
   "metadata": {
    "slideshow": {
     "slide_type": "subslide"
    }
   },
   "outputs": [
    {
     "ename": "NameError",
     "evalue": "name 'foo' is not defined",
     "output_type": "error",
     "traceback": [
      "\u001b[0;31m---------------------------------------------------------------------------\u001b[0m",
      "\u001b[0;31mNameError\u001b[0m                                 Traceback (most recent call last)",
      "\u001b[0;32m<ipython-input-5-31504fd18de0>\u001b[0m in \u001b[0;36m<module>\u001b[0;34m\u001b[0m\n\u001b[1;32m      6\u001b[0m     \u001b[0;32mreturn\u001b[0m \u001b[0mbar\u001b[0m\u001b[0;34m\u001b[0m\u001b[0;34m\u001b[0m\u001b[0m\n\u001b[1;32m      7\u001b[0m \u001b[0;34m\u001b[0m\u001b[0m\n\u001b[0;32m----> 8\u001b[0;31m \u001b[0mprint\u001b[0m\u001b[0;34m(\u001b[0m\u001b[0mfoo\u001b[0m\u001b[0;34m)\u001b[0m\u001b[0;34m\u001b[0m\u001b[0;34m\u001b[0m\u001b[0m\n\u001b[0m",
      "\u001b[0;31mNameError\u001b[0m: name 'foo' is not defined"
     ]
    }
   ],
   "source": [
    "del foo\n",
    "\n",
    "def my_func():\n",
    "    foo = 42\n",
    "    bar = 2\n",
    "    return bar\n",
    "\n",
    "print(foo)"
   ]
  },
  {
   "cell_type": "markdown",
   "metadata": {
    "slideshow": {
     "slide_type": "slide"
    }
   },
   "source": [
    "## PEP8\n",
    "\n",
    "Wenn mehrere Leute an einem Projekt arbeiten ist es sinnvoll sich an sogennante *Style Guidelines* zu halten, die die Formatierung wie Namen von Variablen, Funktionen oder Art der Einrückungen vereinheitlichen.\n",
    "\n",
    "Bei Python nennt sich dieser Standard *pep8* und ist hier sepzifiziert:\n",
    "https://www.python.org/dev/peps/pep-0008/\n",
    "\n",
    "Art | Konvention | Beispiel\n",
    "--- | --- | ---\n",
    "Variablen | alles klein, wobei Leerzeichen durch `_` ersetzt werden | `my_variable`\n",
    "konstante Variablen | alles groß geschrieben ' \n",
    "Funktionen | alles klein, wobei Leerzeichen durch `_` ersetzt werden | `my_function`\n",
    "Klassen | CamelCase | `MyClass`"
   ]
  },
  {
   "cell_type": "markdown",
   "metadata": {
    "slideshow": {
     "slide_type": "slide"
    }
   },
   "source": [
    "## git\n",
    "\n",
    "*git* ist ein *Versions Kontroll System (VCS - Version Control System)* womit mehrere Leute an einem Textprojekt arbeiten können.\n",
    "Jede Veränderung ist ein inkrement und "
   ]
  }
 ],
 "metadata": {
  "kernelspec": {
   "display_name": "Python 3",
   "language": "python",
   "name": "python3"
  },
  "language_info": {
   "codemirror_mode": {
    "name": "ipython",
    "version": 3
   },
   "file_extension": ".py",
   "mimetype": "text/x-python",
   "name": "python",
   "nbconvert_exporter": "python",
   "pygments_lexer": "ipython3",
   "version": "3.7.6"
  }
 },
 "nbformat": 4,
 "nbformat_minor": 4
}
