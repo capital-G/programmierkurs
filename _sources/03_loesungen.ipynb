{
 "cells": [
  {
   "cell_type": "markdown",
   "metadata": {},
   "source": [
    "# Lösungen Sitzung 3"
   ]
  },
  {
   "cell_type": "markdown",
   "metadata": {
    "slideshow": {
     "slide_type": "subslide"
    }
   },
   "source": [
    "**Aufgabe**\n",
    "\n",
    "* Gebe alle geraden Zahlen zwischen 1 und inklusive 100 aus\n",
    "\n",
    "*Hinweis:* Siehe [*modolu*](https://www.wikiwand.com/de/Division_mit_Rest) Funktion, in Python `%`, welche den Rest einer ganzzahligen Division angibt, also die Zahl $b$ bei\n",
    "\n",
    "$n = m*a +b, 0 <= b < |m|$\n",
    "\n",
    "Beispiele:\n",
    "```python\n",
    "2 % 5 = 2  # 0 * 5 + 2\n",
    "8 % 5 = 3  # 1 * 5 + 3\n",
    "42 % 13 = 3  # 13 * 3 + 3\n",
    "16 % 2 = 0  # 8*2 + 0\n",
    "17 % 2 = 1  # 8*2 + 1\n",
    "18 % 2 = 0  # 9*2 + 0\n",
    "```"
   ]
  },
  {
   "cell_type": "code",
   "execution_count": 1,
   "metadata": {},
   "outputs": [
    {
     "name": "stdout",
     "output_type": "stream",
     "text": [
      "2\n",
      "4\n",
      "6\n",
      "8\n",
      "10\n",
      "12\n",
      "14\n",
      "16\n",
      "18\n",
      "20\n",
      "22\n",
      "24\n",
      "26\n",
      "28\n",
      "30\n",
      "32\n",
      "34\n",
      "36\n",
      "38\n",
      "40\n",
      "42\n",
      "44\n",
      "46\n",
      "48\n",
      "50\n",
      "52\n",
      "54\n",
      "56\n",
      "58\n",
      "60\n",
      "62\n",
      "64\n",
      "66\n",
      "68\n",
      "70\n",
      "72\n",
      "74\n",
      "76\n",
      "78\n",
      "80\n",
      "82\n",
      "84\n",
      "86\n",
      "88\n",
      "90\n",
      "92\n",
      "94\n",
      "96\n",
      "98\n",
      "100\n"
     ]
    }
   ],
   "source": [
    "for i in range(1, 101):  # range ist oben nicht inklusive, deshalb 101\n",
    "    # eine zahl i ist gerade genau dann wenn i modolu 2 = 0 ist\n",
    "    if i%2 == 0:\n",
    "        print(i)"
   ]
  },
  {
   "cell_type": "markdown",
   "metadata": {
    "slideshow": {
     "slide_type": "subslide"
    }
   },
   "source": [
    "**Aufgabe**\n",
    "\n",
    "* Schreibe eine Funktion die einen Boolean Wert zurückliefert ob eine Zahl gerade ist oder nicht."
   ]
  },
  {
   "cell_type": "code",
   "execution_count": 2,
   "metadata": {},
   "outputs": [
    {
     "name": "stdout",
     "output_type": "stream",
     "text": [
      "True\n"
     ]
    }
   ],
   "source": [
    "def is_even(number):\n",
    "    return number % 2 == 0\n",
    "\n",
    "print(is_even(2))"
   ]
  },
  {
   "cell_type": "markdown",
   "metadata": {
    "slideshow": {
     "slide_type": "subslide"
    }
   },
   "source": [
    "**Bonus Aufgabe**\n",
    "\n",
    "* Berechne alle Primzahlen zwischen 0 und 100\n",
    "\n",
    "Hinweis 1: Der Modolu Operator `%` berechnet den Rest der bei einer Operationen zwischen zwei ganzen Zahlen entsteht.\n",
    "\n",
    "```python\n",
    "2 % 5 = 2  # 0 * 5 + 2\n",
    "8 % 5 = 3  # 1 * 5 + 3\n",
    "42 % 13 = 3  # 13 * 3 + 3\n",
    "```\n",
    "\n",
    "Hinweis 2: Eine Primzahl ist eine natürliche Zahl, die größer als 1 und ausschließlich durch sich selbst und durch 1 teilbar ist.\n",
    "\n",
    "Hinweis 3:\n",
    "\n",
    "```python\n",
    "range(0, 100) = [0, 1, 2, ..., 99]\n",
    "```"
   ]
  },
  {
   "cell_type": "code",
   "execution_count": 3,
   "metadata": {},
   "outputs": [
    {
     "name": "stdout",
     "output_type": "stream",
     "text": [
      "2 is prime\n",
      "3 is prime\n",
      "4 is NOT prime\n",
      "5 is prime\n",
      "6 is NOT prime\n",
      "7 is prime\n",
      "8 is NOT prime\n",
      "9 is NOT prime\n",
      "10 is NOT prime\n",
      "11 is prime\n",
      "12 is NOT prime\n",
      "13 is prime\n",
      "14 is NOT prime\n",
      "15 is NOT prime\n",
      "16 is NOT prime\n",
      "17 is prime\n",
      "18 is NOT prime\n",
      "19 is prime\n",
      "20 is NOT prime\n",
      "21 is NOT prime\n",
      "22 is NOT prime\n",
      "23 is prime\n",
      "24 is NOT prime\n",
      "25 is NOT prime\n",
      "26 is NOT prime\n",
      "27 is NOT prime\n",
      "28 is NOT prime\n",
      "29 is prime\n",
      "30 is NOT prime\n",
      "31 is prime\n",
      "32 is NOT prime\n",
      "33 is NOT prime\n",
      "34 is NOT prime\n",
      "35 is NOT prime\n",
      "36 is NOT prime\n",
      "37 is prime\n",
      "38 is NOT prime\n",
      "39 is NOT prime\n",
      "40 is NOT prime\n",
      "41 is prime\n",
      "42 is NOT prime\n",
      "43 is prime\n",
      "44 is NOT prime\n",
      "45 is NOT prime\n",
      "46 is NOT prime\n",
      "47 is prime\n",
      "48 is NOT prime\n",
      "49 is NOT prime\n",
      "50 is NOT prime\n",
      "51 is NOT prime\n",
      "52 is NOT prime\n",
      "53 is prime\n",
      "54 is NOT prime\n",
      "55 is NOT prime\n",
      "56 is NOT prime\n",
      "57 is NOT prime\n",
      "58 is NOT prime\n",
      "59 is prime\n",
      "60 is NOT prime\n",
      "61 is prime\n",
      "62 is NOT prime\n",
      "63 is NOT prime\n",
      "64 is NOT prime\n",
      "65 is NOT prime\n",
      "66 is NOT prime\n",
      "67 is prime\n",
      "68 is NOT prime\n",
      "69 is NOT prime\n",
      "70 is NOT prime\n",
      "71 is prime\n",
      "72 is NOT prime\n",
      "73 is prime\n",
      "74 is NOT prime\n",
      "75 is NOT prime\n",
      "76 is NOT prime\n",
      "77 is NOT prime\n",
      "78 is NOT prime\n",
      "79 is prime\n",
      "80 is NOT prime\n",
      "81 is NOT prime\n",
      "82 is NOT prime\n",
      "83 is prime\n",
      "84 is NOT prime\n",
      "85 is NOT prime\n",
      "86 is NOT prime\n",
      "87 is NOT prime\n",
      "88 is NOT prime\n",
      "89 is prime\n",
      "90 is NOT prime\n",
      "91 is NOT prime\n",
      "92 is NOT prime\n",
      "93 is NOT prime\n",
      "94 is NOT prime\n",
      "95 is NOT prime\n",
      "96 is NOT prime\n",
      "97 is prime\n",
      "98 is NOT prime\n",
      "99 is NOT prime\n",
      "100 is NOT prime\n"
     ]
    }
   ],
   "source": [
    "for i in range(2, 101):\n",
    "    is_prime = True\n",
    "    for j in range(2, i):\n",
    "        if i%j == 0:\n",
    "            is_prime = False\n",
    "    if is_prime:\n",
    "        print(f'{i} is prime')\n",
    "    else:\n",
    "        print(f'{i} is NOT prime')"
   ]
  }
 ],
 "metadata": {
  "kernelspec": {
   "display_name": "Python 3",
   "language": "python",
   "name": "python3"
  },
  "language_info": {
   "codemirror_mode": {
    "name": "ipython",
    "version": 3
   },
   "file_extension": ".py",
   "mimetype": "text/x-python",
   "name": "python",
   "nbconvert_exporter": "python",
   "pygments_lexer": "ipython3",
   "version": "3.7.5"
  }
 },
 "nbformat": 4,
 "nbformat_minor": 4
}
