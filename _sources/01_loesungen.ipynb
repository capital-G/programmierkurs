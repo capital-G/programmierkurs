{
 "cells": [
  {
   "cell_type": "markdown",
   "metadata": {},
   "source": [
    "# Lösungen Sitzung 1"
   ]
  },
  {
   "cell_type": "markdown",
   "metadata": {
    "slideshow": {
     "slide_type": "subslide"
    }
   },
   "source": [
    "**Aufgabe**:\n",
    "\n",
    "* Benutze Python als Taschenrechner für: $(4 * 15) + 3$ und speicher das Ergebnis in der Variable `foo`\n",
    "* Printe einen String der das Ergebnis anzeigt - z.B. *Das Ergebnis ist 123*"
   ]
  },
  {
   "cell_type": "code",
   "execution_count": 1,
   "metadata": {},
   "outputs": [
    {
     "name": "stdout",
     "output_type": "stream",
     "text": [
      "Das Ergebnis ist 63\n"
     ]
    }
   ],
   "source": [
    "foo = (4 * 15) + 3\n",
    "print('Das Ergebnis ist ' + str(foo))"
   ]
  },
  {
   "cell_type": "markdown",
   "metadata": {
    "slideshow": {
     "slide_type": "subslide"
    }
   },
   "source": [
    "**Aufgabe**\n",
    "\n",
    "* Schreibe ein Programm welches den Namen und Alter abfragt und das Geburtsjahr anhand des Alters berechnet"
   ]
  },
  {
   "cell_type": "code",
   "execution_count": 2,
   "metadata": {},
   "outputs": [
    {
     "name": "stdin",
     "output_type": "stream",
     "text": [
      "Wie heißt du?  Dennis\n",
      "Wie alt bist du?  28\n"
     ]
    },
    {
     "name": "stdout",
     "output_type": "stream",
     "text": [
      "Hallo Dennis!\n",
      "Dein Geburtsjahr ist 1992 oder 1991\n"
     ]
    }
   ],
   "source": [
    "name = input('Wie heißt du? ')\n",
    "age = input('Wie alt bist du? ')\n",
    "birth_year = 2020 - int(age)  # age ist string - zum rechnen brauchen wir aber integer\n",
    "print('Hallo ' + name + '!')\n",
    "# bug gefahr - beachte dass das geburtsjahr auch vom monat abhängig ist!\n",
    "print('Dein Geburtsjahr ist ' + str(birth_year) + ' oder ' + str(birth_year-1))"
   ]
  },
  {
   "cell_type": "markdown",
   "metadata": {},
   "source": [
    "Alternative Lösung mithilfe von *f-strings*.\n",
    "Die Inhalte innerhalb der Klammern {} sind als Platzhalter zu verstehen.\n",
    "Häufig ist diese eine einfachere Alternative."
   ]
  },
  {
   "cell_type": "code",
   "execution_count": 3,
   "metadata": {},
   "outputs": [
    {
     "name": "stdout",
     "output_type": "stream",
     "text": [
      "Dein Geburtsjahr ist 1992 oder 1991\n"
     ]
    }
   ],
   "source": [
    "print(f'Dein Geburtsjahr ist {birth_year} oder {birth_year-1}')"
   ]
  },
  {
   "cell_type": "markdown",
   "metadata": {
    "slideshow": {
     "slide_type": "subslide"
    }
   },
   "source": [
    "Strings verhalten sich ähnlich zu Listen - man kann einzelne Buchstaben mithilfe eines Indizes anspringen.\n",
    "\n",
    "**Aufgabe**\n",
    "\n",
    "* Wie lautet der Ausdruck aus um den letzten Buchstaben des Strings \"Clara Schumann\" anzuzeigen?\n"
   ]
  },
  {
   "cell_type": "code",
   "execution_count": 4,
   "metadata": {},
   "outputs": [
    {
     "name": "stdout",
     "output_type": "stream",
     "text": [
      "n\n"
     ]
    }
   ],
   "source": [
    "foo = 'Clara Schumann'\n",
    "# auf strings kann man ähnlich wie auf listen zugreifen\n",
    "# wir greifen auf das -1, also das letzte element zu\n",
    "print(foo[-1])"
   ]
  }
 ],
 "metadata": {
  "kernelspec": {
   "display_name": "Python 3",
   "language": "python",
   "name": "python3"
  },
  "language_info": {
   "codemirror_mode": {
    "name": "ipython",
    "version": 3
   },
   "file_extension": ".py",
   "mimetype": "text/x-python",
   "name": "python",
   "nbconvert_exporter": "python",
   "pygments_lexer": "ipython3",
   "version": "3.7.6"
  }
 },
 "nbformat": 4,
 "nbformat_minor": 4
}
